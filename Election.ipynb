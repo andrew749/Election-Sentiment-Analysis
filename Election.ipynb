{
 "cells": [
  {
   "cell_type": "markdown",
   "metadata": {},
   "source": [
    "# Analyze tweets for sentiment\n",
    "A simple project to analayze tweets by topic in different areas of the World"
   ]
  },
  {
   "cell_type": "code",
   "execution_count": 1,
   "metadata": {
    "collapsed": true
   },
   "outputs": [],
   "source": [
    "import pandas as pd\n",
    "import numpy as np\n",
    "import sklearn as sk\n",
    "import matplotlib.pyplot as plt"
   ]
  },
  {
   "cell_type": "code",
   "execution_count": 2,
   "metadata": {
    "collapsed": true
   },
   "outputs": [],
   "source": [
    "import os, sys"
   ]
  },
  {
   "cell_type": "code",
   "execution_count": 3,
   "metadata": {
    "collapsed": false
   },
   "outputs": [],
   "source": [
    "positive_reviews = []\n",
    "pos_path = '/Users/andrewcodispoti/Downloads/review_polarity/txt_sentoken/pos'\n",
    "for pos_file in os.listdir(pos_path):\n",
    "    with open(os.path.join(pos_path, pos_file)) as f:\n",
    "        positive_reviews.append(f.readlines())"
   ]
  },
  {
   "cell_type": "code",
   "execution_count": 4,
   "metadata": {
    "collapsed": true
   },
   "outputs": [],
   "source": [
    "negative_reviews = []\n",
    "neg_path = '/Users/andrewcodispoti/Downloads/review_polarity/txt_sentoken/neg'\n",
    "for neg_file in os.listdir(neg_path):\n",
    "    with open(os.path.join(neg_path, neg_file)) as f:\n",
    "        negative_reviews.append(f.readlines())"
   ]
  },
  {
   "cell_type": "code",
   "execution_count": 5,
   "metadata": {
    "collapsed": false
   },
   "outputs": [],
   "source": [
    "positive_reviews = [\"\".join(x).replace('\\n', '') for x in positive_reviews]\n",
    "negative_reviews = [\"\".join(x).replace('\\n', '') for x in negative_reviews]"
   ]
  },
  {
   "cell_type": "markdown",
   "metadata": {},
   "source": [
    "Now we have our reviews relatively clean and in a form that we can tokenize them"
   ]
  },
  {
   "cell_type": "markdown",
   "metadata": {},
   "source": [
    "## Tokenize reviews"
   ]
  },
  {
   "cell_type": "code",
   "execution_count": 6,
   "metadata": {
    "collapsed": true
   },
   "outputs": [],
   "source": [
    "from sklearn.feature_extraction.text import TfidfVectorizer\n",
    "vect = TfidfVectorizer(min_df=5, max_df=0.95, sublinear_tf=True)"
   ]
  },
  {
   "cell_type": "code",
   "execution_count": 7,
   "metadata": {
    "collapsed": true
   },
   "outputs": [],
   "source": [
    "training_counts = vect.fit_transform(positive_reviews + negative_reviews)"
   ]
  },
  {
   "cell_type": "code",
   "execution_count": 8,
   "metadata": {
    "collapsed": true
   },
   "outputs": [],
   "source": [
    "full_data = positive_reviews + negative_reviews"
   ]
  },
  {
   "cell_type": "code",
   "execution_count": 9,
   "metadata": {
    "collapsed": true
   },
   "outputs": [],
   "source": [
    "training_Y = [1] * 1000 + [-1] * 1000"
   ]
  },
  {
   "cell_type": "markdown",
   "metadata": {},
   "source": [
    "## Train a classifier on the number of occurences of each word"
   ]
  },
  {
   "cell_type": "code",
   "execution_count": 10,
   "metadata": {
    "collapsed": false
   },
   "outputs": [
    {
     "data": {
      "text/plain": [
       "SVC(C=1.0, cache_size=200, class_weight=None, coef0=0.0,\n",
       "  decision_function_shape=None, degree=3, gamma='auto', kernel='linear',\n",
       "  max_iter=-1, probability=False, random_state=None, shrinking=True,\n",
       "  tol=0.001, verbose=False)"
      ]
     },
     "execution_count": 10,
     "metadata": {},
     "output_type": "execute_result"
    }
   ],
   "source": [
    "from sklearn import svm\n",
    "classifier = svm.SVC(kernel='linear')\n",
    "classifier.fit(training_counts, training_Y)"
   ]
  },
  {
   "cell_type": "code",
   "execution_count": 11,
   "metadata": {
    "collapsed": true
   },
   "outputs": [],
   "source": [
    "def predict(sentence):\n",
    "    d = vect.transform([sentence])\n",
    "    return classifier.predict(d)"
   ]
  },
  {
   "cell_type": "code",
   "execution_count": 12,
   "metadata": {
    "collapsed": false
   },
   "outputs": [
    {
     "data": {
      "text/plain": [
       "array([-1])"
      ]
     },
     "execution_count": 12,
     "metadata": {},
     "output_type": "execute_result"
    }
   ],
   "source": [
    "predict(\"terrible product, would buy again\")"
   ]
  },
  {
   "cell_type": "markdown",
   "metadata": {},
   "source": [
    "## Test with some randomly selected training data"
   ]
  },
  {
   "cell_type": "code",
   "execution_count": 13,
   "metadata": {
    "collapsed": false
   },
   "outputs": [],
   "source": [
    "indices = [np.random.randint(2000) for x in xrange(10)]\n",
    "test_data = [full_data[x] for x in indices]"
   ]
  },
  {
   "cell_type": "code",
   "execution_count": 14,
   "metadata": {
    "collapsed": false
   },
   "outputs": [
    {
     "data": {
      "text/plain": [
       "[198, 1690, 1287, 1210, 1663, 1344, 462, 865, 1424, 599]"
      ]
     },
     "execution_count": 14,
     "metadata": {},
     "output_type": "execute_result"
    }
   ],
   "source": [
    "indices"
   ]
  },
  {
   "cell_type": "code",
   "execution_count": 15,
   "metadata": {
    "collapsed": false
   },
   "outputs": [],
   "source": [
    "indices_mask = pd.Series(indices) < 1000"
   ]
  },
  {
   "cell_type": "code",
   "execution_count": 16,
   "metadata": {
    "collapsed": false,
    "scrolled": true
   },
   "outputs": [
    {
     "name": "stdout",
     "output_type": "stream",
     "text": [
      "Predicted Sentiment : Positive, Actual Sentiment:Positive\n",
      "\n",
      "bob the happy bastard's quickie review : rush hour so what's the problem with 48 hours clones these days ? they always try for the same thing that eddie murphy and nick nolte had . that was the problem that plagued these clones , not to mention the actual sequel : another 48 hours , a complete waste of film . but , at last , someone has a different take on the matter , and it's director brett rainer . rush hour features jackie chan in his first u . s . action movie , playing a chinese detective who's being flown to the us to investigate the kidnapping of the chinese consulate's daughter . of course , the fbi is upset that he'll be interfering in their investigation , and stick him with an lapd office with a big mouth- of course , that's chris tucker . what makes rush hour work so damn well is the chemistry between the energetic chan and the absolutely hilarious tucker . tucker mouths off to chan at every given opportunity ( \" i'm michael jackson , you tito . \" ) , and chan delivers a few zingers of his own , as well as some terrific fight scenes . the story's pretty much your average fare , but with a decent twist involving the main villain , a highly clouded figure named jun tao . at least it's entertaining , and the concept is excellently realized . a particular fight scene in a chinese office , where chan and tucker duke it out with the bad guys , is funny and energetic at the same time . and the finale's a real treat as well . . . chan delivers yet another fantastic stunt for the fans with a 10-story drop . rush hour is just the sort of film you'll get a kick out of on any night of the week . just make sure you don't look for anything culturally different and you'll be fine- drunken master ii this ain't . \n",
      "Predicted Sentiment : Negative, Actual Sentiment:Negative\n",
      "\n",
      "i've never written a review for a movie i haven't watched all the way through , but i had to make an exception with powder . i was about forty-five minutes into this one at a friend's house when he and his brother got into a huge shouting match that would have ended in violence had we not left the house . so i never got to finish the movie and i'm sure as hell not going to pay three more bucks to watch half of a bad movie . but i can at least get a partial review out of it , because i saw enough to know this one wasn't worth finishing in the first place . the movie centers around a freaky teenager who's spent his entire life living in the cellar of his grandparents' house . when grandpa dies ( taking his department store down with him ) , social worker mary steenburgen has to take powder ( first and middle names ? gold bond ) to a state home , where we find out he's a different from the other kids . actually , we find out he's different when we first see him , because he's the most pale individual we've ever seen and moreover he has no body hair whatsoever . when powder is born in the opening minutes of the movie , the father takes one look at him and says \" he's not my son . \" obviously . all i want to know is where the pillsbury dough boy was nine months ago . so the white-faced freak leaves his neverland ranch for the state home and faces the ridicule of other kids . that is , until they try to haze him during his first cafeteria lunch by making him \" wear \" his spoon ( \" you can either wear it on your nose or up your ass . \" decisions , decisions . . . ) and he uses telepathic powers to draw all the silverware in the room into a giant pile in the middle of the table . so if his father is the pillsbury dough boy , his mother must be sissy spacek's carrie character . and you have to factor in two more things from the subsequent scenes , as we find out powder has some sort of super-intelligence ( \" your i . q . test went straight off the chart ! \" ) and attracts electrical power . this first shows up as powder visits the world of high school ( if he's such a genius already , why would he need a high school education ? ) and sits through a demonstration in jeff goldblum's science class . goldblum plugs in a \" jacob's ladder \" device that shows current running up two wires and immediately the current flows across the room and into powder's chest . but goldblum just stands there for about thirty seconds watching , instead of just unplugging the damn thing . i guess he was too busy contemplating why he was appearing in his third bad movie in a row ( following hideaway and nine months ) . that's about all i saw before the big fight began and , let me tell you , that was twice as interesting as the movie itself . but like i said , i saw enough to know this would be one of those terrible melodramas about the isolation of people who have superior abilities and how hard it is for those people to assimilate themselves into mainstream civilization . none of these movies ever handle the subject properly , instead introducing the feeble beauty and the beast copout of having a beautiful woman fall in love with the guy's personality , overlooking his personal appearance . i already had the female character picked out ( the girl who was sitting next to him in the back of the room during the electrocution scene ) , but i guess i'll never know for sure what happened . from noraruth@aol . com mon jun 10 15 : 04 : 03 edt 1996 article : 3654 of rec . arts . movies . reviews path : nntphub . cb . att . com ! not-for-mail from : noraruth@aol . com  ( andrew hicks ) newsgroups : rec . arts . movies . reviews , rec . arts . sf . reviews subject : review : powder ( 1995 ) followup-to : rec . arts . movies . current-films , rec . arts . sf . movies date : 10 jun 1996 18 : 16 : 03 gmt organization : university of missouri - columbia lines : 70 sender : ecl@mtcts1 . att . com  ( evelyn c . leeper ) approved : ecl@mtcts1 . att . com message-id : \" > reply-to : noraruth@aol . com  ( andrew hicks ) nntp-posting-host : mtcts2 . mt . lucent . com summary : r . a . m . r . #05425 keywords : author=hicks originator : ecl@mtcts2 xref : nntphub . cb . att . com rec . arts . movies . reviews : 3654 rec . arts . sf . reviews : 710 status : ro powder a film review by andrew hicks copyright 1996 andrew hicks / fatboy productions i've never written a review for a movie i haven't watched all the way through , but i had to make an exception with powder . i was about forty-five minutes into this one at a friend's house when he and his brother got into a huge shouting match that would have ended in violence had we not left the house . so i never got to finish the movie and i'm sure as hell not going to pay three more bucks to watch half of a bad movie . but i can at least get a partial review out of it , because i saw enough to know this one wasn't worth finishing in the first place . the movie centers around a freaky teenager who's spent his entire life living in the cellar of his grandparents' house . when grandpa dies ( taking his department store down with him ) , social worker mary steenburgen has to take powder ( first and middle names ? gold bond ) to a state home , where we find out he's a different from the other kids . actually , we find out he's different when we first see him , because he's the most pale individual we've ever seen and moreover he has no body hair whatsoever . when powder is born in the opening minutes of the movie , the father takes one look at him and says \" he's not my son . \" obviously . all i want to know is where the pillsbury dough boy was nine months ago . so the white-faced freak leaves his neverland ranch for the state home and faces the ridicule of other kids . that is , until they try to haze him during his first cafeteria lunch by making him \" wear \" his spoon ( \" you can either wear it on your nose or up your ass . \" decisions , decisions . . . ) and he uses telepathic powers to draw all the silverware in the room into a giant pile in the middle of the table . so if his father is the pillsbury dough boy , his mother must be sissy spacek's carrie character . and you have to factor in two more things from the subsequent scenes , as we find out powder has some sort of super-intelligence ( \" your i . q . test went straight off the chart ! \" ) and attracts electrical power . this first shows up as powder visits the world of high school ( if he's such a genius already , why would he need a high school education ? ) and sits through a demonstration in jeff goldblum's science class . goldblum plugs in a \" jacob's ladder \" device that shows current running up two wires and immediately the current flows across the room and into powder's chest . but goldblum just stands there for about thirty seconds watching , instead of just unplugging the damn thing . i guess he was too busy contemplating why he was appearing in his third bad movie in a row ( following hideaway and nine months ) . that's about all i saw before the big fight began and , let me tell you , that was twice as interesting as the movie itself . but like i said , i saw enough to know this would be one of those terrible melodramas about the isolation of people who have superior abilities and how hard it is for those people to assimilate themselves into mainstream civilization . none of these movies ever handle the subject properly , instead introducing the feeble beauty and the beast copout of having a beautiful woman fall in love with the guy's personality , overlooking his personal appearance . i already had the female character picked out ( the girl who was sitting next to him in the back of the room during the electrocution scene ) , but i guess i'll never know for sure what happened . \n",
      "Predicted Sentiment : Negative, Actual Sentiment:Negative\n",
      "\n",
      "tv's buffy finds herself on the other side of the supernatural spectrum in \" simply irresistible . \" sarah michelle gellar , that never-ceasing crusader against never-ending evil every tuesday night on the wb network , here plays a down-on-her-luck chef suspected of dabbling in witchcraft after her flailing restaurant receives help in the form of magically scrumptious meals . taste test results : some vampire slaying , though out of place , would have really livened this excruciating movie up .  \" simply irresistible \" is actually quite easy to deny , a disaster of culinary and other proportions pretty much from the opening on . gellar's amanda finds herself falling for harried henri bendel exec tom ( sean patrick flannery of powder ) around the same time she discovers an uncanny ability to mystically manifest emotions in her cooking , a secret ingredient that arouses both his interest in her and the public's in her tiny tribeca eatery . all this love and sorcery have a lot to do with the telekinetic crab that also figures into the story , a tale that at times plays like an american spin on 1993's mexican classic \" like water for chocolate . \" several differences : one , \" like water \" didn't have a telekinetic crab , and two , \" like water \" was a good film .  \" simply irresistible , \" on the other hand , is about as challenging as an easy-bake oven . amateurishly staged scenes cancel each other out in their badness , from an embarrassing seduction in a literal vanilla fog to an impromptu dance sequence where tom and amanda do their best fred and ginger - though fred and ginger never took part in anything this garish . the intrusive musical score distracts from the flat dialogue at regular intervals , but it's not like you're were going to miss much . in fact , take away the few instances of salty language and this has made-for-disney channel written all over it . but a majority of \" simply irresistible \" 's resistibility factor has less to do with the afore-mentioned overkill than the bland leads - tom and amanda are so thin and ambiguously defined that there's just no fun rooting for their inevitable \" happily ever after . \" nor do the otherworldly powers that serve to bring them together make sense , so we're left with a ho-hum relationship based on enchanted eclairs ; it's not going to last long , people . perhaps sensing this , the filmmakers have piled on weird supporting characters for acting vets like betty buckley , dylan baker and patricia clarkson , but they don't go anywhere either . in fact , nothing in \" simply irresistible \" goes anywhere save for gellar , and she doesn't go somewhere so much as you wish she'd go _somewhere_ - like to a better movie . already proving major talent with relatively few big- and small-screen roles , she's the sole reason this overcooked souffle isn't completely fit for the garbage disposal , looking smashing in her todd oldham-designed duds and investing much more in her perfunctory part than she ever gets in return . it's certainly a dish best not served in it's current condition , but one can only guess that , without gellar , \" simply irresistible \" would be strictly unwatchable . \n",
      "Predicted Sentiment : Negative, Actual Sentiment:Negative\n",
      "\n",
      "the rich legacy of cinema has left us with certain indelible images . the tinkling christmas tree bell in \" it's a wonderful life . \" bogie's speech at the airport in \" casablanca . \" little elliott's flying bicycle , silhouetted by the moon in \" e . t . \" and now , \" starship troopers \" director paul verhoeven adds one more image that will live in our memories forever : doogie houser doing a vulcan mind meld with a giant slug .  \" starship troopers , \" loosely based on the robert heinlein novel , is the story of an interstellar war between humans and giant insects . in the hands of verhoeven , the mammoth sci-fi battle flick is one of the most astonishingly bad films ever made , a monument to inept filmmaking on a colossal scale . to put it simply , it's a bug bomb . in \" robocop \" and \" total recall , \" verhoeven displayed a gift for creating an entertaining mix of violence , special effects and social satire , and \" starship troopers \" starts off in similar fashion , with a tongue-in-cheek futuristic military recruitment ad that shows promise . things go downhill fast , though , as we meet our heroes , a group of buenos aires teens preparing to graduate from high school . inexplicably , johnny rico , carmen ibenez , dizzy flores and xander barcalow are played by square-jawed anglo kids who look like they just stepped out of a mountain dew commercial . it's a veritable \" alpha centuri 90210 \" as we watch the love-smitten teens squabble in the name of love . michael ironside plays their teacher , who waves around a cheesy fake severed arm while lecturing about civic responsibilities . eventually , the kids join the military , with dreams of glory in their addled little minds . one of their classmates , carl jenkins ( \" doogie houser's \" neil patrick harris , ) snags a job in military intelligence because of his strong psychic abilities . he displays his gift by psychically ordering a pet ferret to crawl up his mother's leg . a long , dull boot camp sequence follows , enlivened only by an extended coed shower scene where the recruits swap snappy banter as the \" showgirls \" director's camera roams over their buff bodies . finally , a full hour into the film , the war finally starts and we meet the enemy . the bugs hail from klendathu and colonize planets by hurling their spores into space . they attack starships by spinning around and firing deadly plasma blasts from their rears . yes , incredible as it seems , the bugs actually kill with cosmic farts . a phenomenally large amount of money was spent creating the computer animated insects and the results are mixed at best . sweeping distant shots depicting hordes of giant bugs racing to attack are both impressive and scary , but the close-ups are a different matter . the insects have an odd , artificial look , like origami creations with a mottled plastic coating . the attack scenes are intensely violent , as one would expect from verhoeven , but the overall look is too phony to generate any real tension . while the action is frantic , the military strategy , wildly illogical even by hollywood standards , grows tiresome quickly . verhoeven tries to spice things up by throwing in more satiric news coverage , but the faux-jingoistic scenes of children \" doing their part for the war effort \" by squishing roaches on a sidewalk aren't enough to make up for the long stretches of sheer dreck . one can only guess what paul verhoeven was trying to do here . his customary one part satire , two parts ultra-violence formula is way out of whack , and most of the film just flounders . in \" showgirls \" fashion , some scenes are almost bad enough to be good . an intergalactic kegger party , with jake busey playing \" dixie \" on a green plexiglas fiddle , has a certain bizarre appeal . a sex scene between two of the teens achieves a smarmy charm , enhanced a few minutes later when the female receives a fatal jab from a bug , but tells her hero that she doesn't mind dying .  \" it's okay , \" she gasps , \" i got to have you ! \" and then , of course , there's doogie's mind meld with a bug . it's possible that verhoeven was attempting to create an homage to the era of the original novel . heinlein's pre- \" stranger in a strange land \" books were aimed at adolescent males , and \" starship troopers \" has the antiseptic retro-future look of late 50s/early 60s sci-fi . the one cityscape shown is a jetsons-like gleaming metropolis , with flying cars whizzing past an obvious matte painting . the hairstyles are retro too , straight from the frankie avalon , annette funicello school of fashion . ultimately , verhoeven's motives are irrelevant . he has produce a gargantuan film that fails as an action film or as a social satire . it even fails to be an entertaining bad movie . avoid \" starship troopers \" at all costs . \n",
      "Predicted Sentiment : Negative, Actual Sentiment:Negative\n",
      "\n",
      "what hath kevin williamson wrought ? while the horror movie revival spurred on by his _scream_ has yielded a few decent entries in the genre--_i_know_what_you_did_last_summer_ , _halloween : _h20_ , and _scream_2_ --it must be noted that williamson himself had a hand in the writing of those films . those williamson-less post-_scream_ efforts , among them _wishmaster_ and the recent _disturbing_behavior_ , have been frightening all right--frighteningly , insultingly _bad_ . add to that list _urban_legend_ , which takes a promising premise and runs it through a predictable meat grinder of idiocy . the influence of williamson on screenwriter silvio horta is clear in two key areas . first , the opening sequence , like that of _scream_ , is an extended set piece detailing the singular murder that gets the proverbial ball rolling . this sequence , in which pendleton college coed michelle mancini ( natasha gregson wagner ) is decapitated while driving , also reveals the other obviously williamson-esque touch : the killer's look . dressed in a large hooded parka , wielding an axe , the killer bears more than a passing resemblance to the _i_know . . . _fisherman , sans the hook . one thing horta does not borrow from williamson , however , is the intriguing premise . students at pendleton are being killed by way of urban legends--those contemporary bits of \" mythology \" passed from person to person , group to group , year to year that become so embedded in the social consciousness . it hardly matters if they are true or not , such as the tall tale that mikey from the life cereal commercials died from a fatal combination of pop rocks and pepsi ( he didn't ) . michelle , slain by the \" killer lurking in the backseat \" of lore , is but the first to fall prey to an urban legend come true ; as the body count rises , fellow pendleton student natalie ( alicia witt ) suspects not only a link between the murders , but a personal link to her past as well . the setup shows promise , but the story never takes off , due in large part to horta and the director , the aptly named jamie blanks , who fires round afer round of his namesake in terms of suspense and scares . too many of the would-be shocks are fakeouts reliant on bombastic music cues , and the film's chase scenes are riddled with the cliches that _scream_ tried to subvert , like screaming damsels knowingly running themselves into dead ends when they should--and could--run out the front door . but that is just the tip of the iceberg when it comes to cliches ; there's also the climactic villain confession , in which a contrived and way-too-convenient motive is revealed , not to mention the credit card opening up the locked door trick , which is a cliche in any film genre . banks and horta's ( intentional ) attempts at humor are also lame ; the fact that the best gags are lazy , in-jokey references to the other credits of co-stars joshua jackson and rebecca gayheart says a lot about the imagination of their humor . some laughs are also had when the rather predictable identity of the killer is revealed , but i'm not so sure if some of the more hilarious things about it were meant to be so . the filmmakers don't get much help from their onscreen talent . i was far from a fan of bland _i_know . . . _ starlet jennifer love hewitt , but i'd talke her any day ove the dreadfully stiff and uncharismatic witt , whose inept attempts at emoting were often met with laughter ; witt has a pefect foil in her equally pesence-challenged leading man , jared leto . _dawson's_creek_ star jackson mugs his way thorugh a glorified cameo ; gayheart displays all the depth and range of , well , a noxzema spokeswoman ; and robert englund lends the film little more than his freddy krueger pedigree as a folklore professor . granted , the cast is hampered by their material . loretta devine , who has done some fine work in films such as _waiting_to_exhale_ , is saddled with the ridiculous role of a pam grier-worshiping campus security guard . the recently resuscitated horror genre cannot rely on the efforts one man--namely , kevin williamson--to stay alive . if other filmmakers continue to make such shoddy product as _urban_legend_ , the genre looks to once again go the way of screen slashers' many victims . \n",
      "Predicted Sentiment : Negative, Actual Sentiment:Negative\n",
      "\n",
      "any movie that kills emilio estevez off in the first fifteen minutes has something going for it . unfortunately , this and the familiar theme music are the only worthwhile things about mission impossible , directed by brian depalma . the first problem is that this film has absolutely no connection with the tv show whatsoever , aside from the music . the tv show was about an impossible mission force whose deft teamwork , orchestrated by jim phelps , allowed them to counfound evil dictators of mythic banana republics from inflicting their sordid schemes upon the world . teamwork was the key . this film is set up as a cross between james bond and depalma's \" blow out , \" where the john travolta character was the victim of real and imagined conspiracies from all directions . it was travolta's vulnerability that made that film so exciting and claustrophobic . in this film , tom cruise is basically omniscient ( believe that ? ) and so there's no fun going on here whatsoever . the story is about as contrived as contrived gets , and is full of holes . there are basically two memorable sequences : one involves breaking into a kubrickesque computer room -- a task that could have been made much easier had the characters a whit of common sense ( suffice it to say that the alarm system is disengaged when the computer operator is in the room ) ; the second involves a high-speed train , a helicopter , and the chunnel and does not have to be seen to be disbelieved . the actors are all miscast , especially emannuelle beart as jim phelps wife , who cannot act , and ving rhames as a computer hacker ( ! ) , who looks lost and embarrased to be in this movie . tom cruise is no james bond , and jon voight looks more like bobby \" the brain \" heenan than jim phelps . brian depalma's career has been bafflingly erratic . at his best , he beats hitchcock at his own game ( \" blow out , \" \" carrie , \" \" body double \" ) but this is not his best . the screenplay was partly written by robert towne , who wrote the best scenario of the seventies in \" chinatown , \" but this script is perfunctory at best , and terrrible at worst . the cinematography has a comic book red/blue emphasis , which is nice to look at , but the suspense sequences are all telegraphed and this movie even features the old \" killer who talks too much before shooting thus giving the victim time to think of an escape \" trick . please don't spend your money on this ; it'll only encourage hollywood to make more . \n",
      "Predicted Sentiment : Positive, Actual Sentiment:Positive\n",
      "\n",
      "this has some major spoilers for the film , so be forwarned . the won't appear till later in the article , so you're safe for now . eyes wide shot ( 1999 ) running time : 2 hours 39 minutes 2 . 35 : 1 theatrical aspect starring : tom cruise ( dr . bill hardford ) , nicole kidman ( alice hardford ) , sidney pollack , leelee sobieski , todd field ( nick nightingale ) directed , co-written , produced by : stanley kubrick inspired by : \" traumnovelle \" by : arthur schnitzer this is an interesting film . i must first off state , that you musn't believe any of the rumors of the film . cruise is not a cross dresser , kidman doesn't shoot heroin , and there's not any scene between the two that would suggest that they were aided by a sex therapist . the look of the film is to suggest that it follows the translation of the inspired book from the film was written . the translation , \" dream novel , \" makes you thing that the film should have been titled dream film . there is a noticable amount of graininess to the film . rather than complain about it as some may and already have , see it as a style of shooting . i would gather that kubrick got on another lighting kick shooting this and shot with as much natural light as he could . this and the film looks like it was pushed another two stops to add more grain and brighten it slightly . as an auteur and stickler for details , kubrick seemed to be a bit lax on this one . the film looks great , but there are a good deal of bloopers/flubs that occur . you see lots of boom shots ( in reflection ) and you see the camera at least twice . 16 months for this ? wow . reflection is the biggest killer for this film . their apartment and almost everything in the film casts reflections and the crew can be seen in these , some quite glaringly . one more topic of heated discussion : i saw the \" austin powers \" version , and to be perfectly frank , unless you know where the overlays are supposed to be , you'll probably not see them . two girls standing next to each other look a little suspicious , but i can wait for the unrated version on video to see it the way it's supposed to be . spoilers below : the film itself starts with ( cruise ) bill and ( kidman ) alice getting ready for a little x-mas soiree . they go to a quite elegant party in what seems to be a storagehouse for lighting equipment , which is actually an apartment owned by pollack . bill runs into an old friend from medical school who is now the party's entertainment . soon after , bill and alice are flirting with others at the party , thinking that the other has not noticed . bill is called to help with a partygoer who has had a bit too much of a good time . the next day , bill and alice , casually smoking marijunana in their bedroom discuss the previous nights flirtations . they both discover that they both knew about the flirting . bill starts talking about what women can provide in a relationship , and gets alice extremely angry . in her hazy state , she tells of an opportunity she almost acted on to cheat on bill , not caring about the possible aftereffects . bill gets called away when one of his patients dies , and goes to console his daughter . when his patient's engaged daughter makes a plea for his love and affection , he is struck with images of an affair that never occured between his wife , alice and a naval officer . he sees \" opportunity \" as a betrayal to his wife , and before they can continue , they are interrupted . as he strolls home , he encounters a hooker . seeing another \" opportunity \" arise , he follows the hooker home . they toy around , but before the act ensues , alice calls his cell phone . he breaks the date with the hooker , and heads back out into the night . he passes a lounge and notices that his old medical school buddy is playing , so he heads in . when he meets the friend , the friend reveals that for extra scratch , he plays these strange parties , while blindfolded . bill is intrigued and wants to go to one . nick reluctantly sets him up with directions and a password . what follows this is a short meeting where bill obtains a costume for this party and meets a young girl , leelee sobieski , and her father . the young girl has drawn his eye , but her young age , and the prescence of her father deter this from happening . he gets to the party , which is to say the least , a strange affair . after partaking in some strange \" religious \" right , women and men pair off for the orgy to end all orgies . a woman warns bill in disguise , that he should leave before he is exposed as a fraud at the party . he is detained after a second warning , where he is outed for not being in the group . after getting home , he hides the evidence of his evenings events . unable to carry on in his day , he tries piece the events of the previous night together . in the process , he finds that nick has disappeared , his life is possibly in danger , and the woman that warned him has died . i'm trying to save a bit of the film here , it's worth sitting through to get to this point . this is only about 100 minutes at this point . this is a strange film , because despite the events that occur , the film has a strong family message behind it . it will be hard to pidgeonhole this film as a certain kind of a film . it's got sex in it , it has nudity , drugs , and many more immoralistic values . but they all serve to show why they are bad in one's life . i recommend this film highly on many merits . cruise and kidman are rarely together for longer than 5 minutes after the opening scene , and the secrecy that shrouded the film should hopefully be apparent as to why it was kept once you see it for yourself . \n",
      "Predicted Sentiment : Positive, Actual Sentiment:Positive\n",
      "\n",
      "every once in a while , a film sneaks up on me and takes me completely by surprise . i don't necessarily mean in terms of quality ; rather , i'm referring to the mere knowledge of its existence . usually i know what films are on the way a year in advance , but two weeks ago i had never heard of princess caraboo . it has slipped rather quietly into limited release , and appears destined to slip out just as quietly . that's a shame , because princess caraboo is a delightful fable , romantic , gentle and very appealing . what's more , it's surprisingly insightful and provides a sharp-witted lesson in english social history . princess caraboo is based on an actual event in early 19th century england , involving a young woman ( phoebe cates ) who is found wandering the countryside . apparently unable to speak any english , she is taken in by good-hearted gentlewoman mrs . worrall ( wendy hughes ) . her banker husband ( jim broadbent ) is none-too-pleased about this strange houseguest , until the worralls begin to believe that the woman may be royalty from an east indian island , the princess caraboo . this development inspires plans for a lucrative trading venture for mr . worrall , and an introduction into elite social circles for mrs . worrall . however , local journalist john gutch ( stephen rea ) is not convinced that the woman is what she seems to be , and sets out to find out the truth about princess caraboo . as a social satire and comedy of manners , princess caraboo is a winner . it takes place in an era when it was common practice in england to jail vagrants and hang beggars , and that practice comes in for an obvious hazing . but it is handled most effectively through the character of mr . worrall , a drunken womanizer whose bank is in deep trouble thanks to his corruption and ineptitude . he is worse than one of the idle rich ; he is one of the actively odious gentry so eager to distance themselves from the lower class they think nothing of simply eliminating them , and since the house and money are all from mrs . worrall , he is a bit too close to them for comfort . while hypocrisy is an easy target for ridicule , director and co-writer michael austin keeps the treatment too light-hearted to be heavy-handed . he also takes a unique stab at the trendiness of the upper classes , as the princess becomes a \" sensation \" at court . in one of the film's best sequences , princess caraboo is the guest of honor at a party hosted by the prince regent ( a wonderfully foppish turn by comic john sessions ) , and the lords and ladies end up following her around in a thoroughly silly native dance . it is then that princess caraboo shows how easily people are swept up in \" sensations , \" an idea that takes on a timeless quality ( and makes the film an interesting companion piece to the current quiz show ) . social commentary aside , princess caraboo is simply an eminently enjoyable entertainment . the performers are mostly delightful , particularly phoebe cates , who is radiant in a part that requires a gift for pantomime . her supporting players are also appealing : wendy hughes as the patient and kindly mrs . worrall ; kevin kline as frixos , the worralls' suspicious and superior greek butler ; stephen rea as the world-weary but ultimately romantic gutch . only john lithgow is a disappointment , turning in a limp performance as a scholar who attempts to verify the princess's identity . the story twists and turns just enough so that the question of whether or not the princess is really a princess is always in some doubt , without becoming gimmicky . it is unfortunate that the growing attraction between gutch and princess caraboo isn't given more time to develop , because the potential seemed to be there . when it finally does blossom , it seems too quick to be plausible . princess caraboo is patient enough in establishing its sense of time and place that it might seem a bit slow to viewers seeking a fantasy romp . still , it has both escapist and intellectual appeal , and is well worth seeking out . it is the kind of film that makes my job its most rewarding--a hidden gem . \n",
      "Predicted Sentiment : Negative, Actual Sentiment:Negative\n",
      "\n",
      "it's time to take cover . after a hiatus of about fifteen years , the disaster movie has come back with renewed zest . in early 1997 , there were no less than three movies about volcanoes alone , one on television and two in the theaters , with dante's peak and volcano in heavy competition for the moviegoing dollar . of the two , i had heard that dante's peak was the better film , so i decided to check it out when it was released on video . the film begins with a slow motion scene of people in a third world country trying to evacuate their little town . the town is being covered in ash and sulfuric water from what we presume is a volcanic eruption . flaming rocks of various sizes also fall from the sky , crushing homes and people . we see people panicking , people crying , and even horses rearing . it is a disaster of biblical proportions , signified to us by one person dragging a cross down a road . symbolism doesn't get much more blatant than that . we learn that harry dalton ( pierce brosnan ) , a volcanologist with the u . s . geological survey , was there with his wife when the eruption occurred . harry survived , but his wife did not . a few years later , harry is sent to investigate some unusual seismic activity detected near the small town of dante's peak , washington ( which , we are told , has been voted second most desirable place to live ( under 20 , 000 ) by the readers of money magazine ) . there harry meets rachel wando , a single mother of two who serves as mayor of dante's peak and proprietor of a small coffee shop . although the mayor doesn't seem to be alarmed by the presence of a man sent to determine if the mountain next to their town is going to blow up , a few members of the city council are . they are afraid that harry's presence is going to scare off an investor who has pledged to put millions of dollars into developing dante's peak . they would rather have any news of possible stirrings within the neighboring dormant volcano swept under the rug . however , when an amorous young couple takes a skinny-dip in the local hot springs , they turn up cooked by lava which bubbles up from a small fissure underneath . thus begins a chain of events leading up to the inevitable eruption . this film contains a number of cliches . the amorous couple is one . as soon as they doff their clothes , you know they're going to die . the town busybody and the abrasive mother-in-law make appearances , as does the death-defying dog . countless familiar scenarios only serve to make this film very predictable . watching the movie , i was able to not only anticipate each of the major plot elements , but some of the dialogue as well . unfortunate , since much of the dialog is terrible . for example , harry's boss , paul ( charles hallahan ) , and a team from the u . s . geological survey join harry to assess the situation . paul basically tells the townsfolk that harry's eruption predictions aren't cause for alarm . this causes harry to leave in a fit of rage , only to turn up the next day , ready for work . when paul asks harry why he stayed , he says with grim determination , \" cause this town's in trouble and i'm the best man you've got . \" even better is when harry is trying to explain the need to jolt the residents into leaving . he likens the situation to how a frog will jump out if dropped into a pot of boiling water . if the frog is in cold water which is gradually heated up , however , the frog won't move and will allow itself to be cooked .  \" is that your recipe for frog soup ? \" asks one of the team members .  \" it's my recipe for disaster , \" responds harry . dante's peak has a singular talent for pointing out the obvious . our heroes are in a boat in the middle of a lake which harry realizes the volcanic activity has turned to acid . mayor wando demonstrates her brilliant powers of deduction by proclaiming , in a very grave tone , \" acid eats metal . \" thanks for the tip . when we first see the u . s . geological survey building , there's a caption labeling it as such . this wouldn't have been so bad if it weren't for the fact that the caption is right above a sign on the building which reads , in large letters , \" u . s . geological survey . \" i suppose the caption is for people who can't read signs . although harry and mayor wando become an item by the end of the film , the viewer has no idea why . there is a severe lack of chemistry between the two characters , and the relationship seems rushed because of this . when they get close to kissing , i was asking myself , \" why do they want to kiss ? were they even attracted to each other ? \" if i were the mayor , i would sure think twice about kissing a guy who doesn't even crack a smile through the whole movie , trying to pull off the rough-yet-debonair act . who does he think he is ? james bond ? the eruption of the volcano feels similarly rushed . there are several \" warning signs \" prior to the eruption itself , but they are so lackluster and without suspense that we don't feel as if they are leading up to anything . for example , one of the survey team members makes his way down into the crater of the volcano in order to retrieve a remote controlled robot . a tremor occurs . does he plunge headlong to his death ? is he engulfed in lava which shoots up from below ? no , a couple of rocks fall on him and break his leg . the sole purpose of this scene seemed to be to set up the subsequent chopper rescue scene , which i suppose was intended to be dramatic as well . it wasn't . one plot thread left noticeably hanging was the investment in the town of dante's peak . in a disaster movie , there's usually one guy who's greedy enough to cover up the possibility of eruption/fire/earthquake/explosion/tsunami/tornado/meteorite , and usually gets killed by the disaster . it's okay , of course , because we all think he got what he deserved . if you're going to be unoriginal , you might as well go all the way . in dante's peak , the city councilmembers are concerned , but they don't really try hard enough . maybe the mayor's abrasive mother-in-law should have been the one . for no apparent reason , she snaps at harry for even positing that the volcano could erupt . perhaps her ancestors invested in some pompeii real estate . there are a couple of good things about this movie . the first is the scenery . there are panoramic shots of forests , lakes and mountains that are absolutely beautiful . the second is the special effects . they are the closest i've ever seen to a real pyroclastic eruption . but when elements which don't speak are going to be the best parts of your movie , you'd probably better rewrite the script . \n",
      "Predicted Sentiment : Positive, Actual Sentiment:Positive\n",
      "\n",
      "kevin smith is like a big kid . his humor is that of a sophisticated juvenile's . he grew up idolizing star wars and loves comic books , having also written a few . he also has a cult following , mostly composed of teenagers , college students , and smith's own fellow adolescent-minded grownups . smith is hilarious in person and in writing , but when he tries to be earnest and moralize , that is when he goes wrong . kevin smith is a better writer than director , and he'll be the first to tell you that . that might also be part of the reason why his moralizing comes across as so heavy-handed . great directors show us their theses instead of having the characters sermonize them . this was true in the overrated chasing amy , and it is true for dogma as well . that is not to say smith's message is a bad one . in dogma , smith tells us that problems arise when people believe beyond any doubt that their insight into god and god's desires is superior to anyone else's . basically , dogmatism is bad . changing the minds of the dogmatic is virtually impossible , and since the dogmatic believe that they have special insight , they also know what is best for you , whether you like it or not . this is not exactly a new message in movies ( see inherit the wind ) , but i have no problems with recycling old ones , particularly since dogma's protesters are proving smith's point . smith's own problem with delivering this message is that he beats us over the head with it like we are reading a dogma for dummies book . but this is smith's personality , and his simplistic views neglect such adult issues as how does one interpret the bible ( or koran , etc . ) correctly ( or if there even is a correctly ) and how one settles disputes of heretofore dogmatic concerns . the story concerns abortion clinic worker bethany ( linda fiorentino ) being chosen by voice of god , metatron ( alan rickman ) , to prevent the destruction of the universe by two fallen angels , bartleby ( ben affleck ) and angel of death , loki ( matt damon ) . along the way , forgotten thirteenth apostle , rufus ( chris rock ) , stripper muse serendipity ( salma hayek ) , and slacker duo jay and silent bob ( jason mewes and kevin smith himself ) come to bethany's aid . fallen muse , azrael ( jason lee ) , proves to be the behind-the-scenes manipulator for all the chicanery . the logical but convoluted plot only exists as an excuse for the jokes and to make smith's points , and in itself , has little dramatic momentum . among the supposedly outrageous claims made by the film is that god is a woman , jesus was black , and the bible was written by a bunch of racist , misogynistic white men . of course , kevin smith does not necessarily subscribe to these ideas himself . they are a metaphor for the fears and insecurities of the dogmatic . smith says as much in his amusing disclaimer that precedes the movie . when harvey weinstein asked smith to put it into the film before cannes , smith thought it might give validation to protesters' claims that the film was sacrilegious , but then he rethought it and turned the disclaimer into a joke . the film's humor is uneven . some parts are very funny as when bethany goes for a fire extinguisher when metatron makes a burning-bush kind of entrance . but many of the film's jokes just bomb , as in virtually anything involving salma hayek's serendipity . also , some of the jokes can be seen coming from a mile away . still , smith keeps the zingers coming at a sufficiently rapid pace . among the actors , fiorentino and rickman stand out by far . fiorentino virtually by herself gives the film emotional weight . damon and affleck are fairly lackluster . rock and hayek exist in the film pretty much only as comic relief as are mews and smith . but the latter duo fare much better because jay and silent bob , who recur in all of smith's movies , are much more in line with smith's brand of humor . bud cort , george carlin , janeane garofalo , guinevere turner , and alanis morissette all make cameo appearances . \n"
     ]
    }
   ],
   "source": [
    "predictions = classifier.predict(vect.transform(test_data))\n",
    "for x, y, z in zip(test_data, predictions, indices_mask):\n",
    "    print \"Predicted Sentiment : {}, Actual Sentiment:{}\\n\\n{}\".format(\"Positive\" if y > 0 else \"Negative\", \"Positive\" if z > 0 else \"Negative\", x)"
   ]
  },
  {
   "cell_type": "markdown",
   "metadata": {},
   "source": [
    "## Get some actual data from Twitter"
   ]
  },
  {
   "cell_type": "code",
   "execution_count": 106,
   "metadata": {
    "collapsed": false
   },
   "outputs": [],
   "source": [
    "import twitter\n",
    "tweets_dump=[]"
   ]
  },
  {
   "cell_type": "code",
   "execution_count": 303,
   "metadata": {
    "collapsed": false
   },
   "outputs": [
    {
     "data": {
      "text/plain": [
       "User(ID=69760726, ScreenName=Andrewcod749)"
      ]
     },
     "execution_count": 303,
     "metadata": {},
     "output_type": "execute_result"
    }
   ],
   "source": [
    "api = twitter.Api(consumer_key='fmxnG63GbBwWLtlWyVbYKSvWq',\n",
    "consumer_secret='amrz2mFViLIHoNblxdfxmPqA1l4Wuizvh41IIa57FBST41E1f9',\n",
    "access_token_key='69760726-pXsCljdTmcBZriMPSsIoMs9dm7yWr8hmKwfaU7ZaH',\n",
    "access_token_secret='GFL4cL19wLjcLpmUBB1h8ozyigOlFyCHX15GIAVcAs1SO')\n",
    "api.VerifyCredentials()"
   ]
  },
  {
   "cell_type": "code",
   "execution_count": 301,
   "metadata": {
    "collapsed": true
   },
   "outputs": [],
   "source": [
    "locations=[\"-134.494634,25.981380,-61.219793,48.994509\"]"
   ]
  },
  {
   "cell_type": "code",
   "execution_count": 307,
   "metadata": {
    "collapsed": false,
    "scrolled": false
   },
   "outputs": [
    {
     "name": "stdout",
     "output_type": "stream",
     "text": [
      "Negative => RT @Onision: RT if this election has given you way too much anxiety.\n",
      "Positive => @JustisHudd Tbh? I expected Hillary to win. I stand by my vote against the system. I reserve every right to be upset by this.\n",
      "Positive => RT @benshapiro: Trump bragged that he would change the map. Then he did it. https://t.co/l8gUv5Fo9A\n",
      "Negative => ❄️❄️❄️ https://t.co/g839iLlQ1Q\n",
      "Negative => @ItsSamAlbanese haha that we do man, i just slapped it on to meme tbqh\n",
      "Positive => Not even these beautiful pictures of Jackson can make smile, and that says so much 😞 https://t.co/VY5oYIrfUN\n",
      "Negative => Cake Takes The Trump Card On Twitter On Election Night #Baltimore https://t.co/lhitt9VMmO\n",
      "Positive => But for real. Hit the nail on the head https://t.co/MCVJ8cf3sE\n",
      "Negative => RT @NFLRT: The 2016 Election summed up https://t.co/EclywLycId\n",
      "Positive => This may be needed for the revolution ... It's def time tho\n",
      "Negative => RT @CNNPolitics: Van Jones: \"This was a 'white-lash' against a changing country\" https://t.co/fVi0JzyFOr #CNNElection #ElectionNight https:…\n",
      "Positive => RT @julianborger: French ambassador @GerardAraud: After Brexit and this election, everything is now possible. A world is collapsing b… \n",
      "Negative => I swear if I see any trump supporters y'all getting a bat to the head. Just like glenn did. But the only thing is... no ones gonna feel bad.\n",
      "Negative => RT @immigrant4trump: If you make this go viral, Trump will win. It's about 2 minutes that makes the choice in this election crystal clear h…\n",
      "Negative => @DebrinaHope Sounds like tyler\n",
      "Positive => RT @ABC: Colorado has voted in favor of legalization of assisted suicide, @ABC projects based on exit poll and vote analysis. https://t.co/…\n",
      "Positive => RT @jdesmondharris: One small sign of progress: the number of women of color in the Senate quadrupled https://t.co/2PTnBmcGre via @voxdotcom\n",
      "Negative => RT @Prisonslavery1: We feel nothing here about the election process. How can a one enslaved sympathize or rejoice? We are the prison class\n",
      "Negative => RT @solitaryessence: My mom has not stopped praying because of this election. #ElectionDay #Election2020 https://t.co/8VPU13WYGX\n",
      "Negative => #ElectionNight I am a woman, with a degree, who did my research prior to voting today. #TrumpPence16 #MakeAmericaGreatAgain @realDonaldTrump\n",
      "Positive => @saynoir For the record, Hillary did very well with black women.\n",
      "Negative => RT @jkarsh: The Republican plan worked. https://t.co/2t4BwPCYlE\n",
      "Positive => Let's all get ready for the hunger games. I just won't volunteer as tribute...\n",
      "Positive => @kxtiaa @thirlsvelvet You go kat! 👏🏼👏🏼👏🏼😤\n",
      "Negative => RT @FriendlyAssh0le: Everyone around the world watching this election like... https://t.co/pM1aZeNTTL\n",
      "Negative => RT @JoeyEsce: If the KKK is happy with the election results, then you shouldn't be.\n",
      "Positive => RT @mitchellvii: PPD Poll nails yet another election: https://t.co/aqYKDEdJ2g\n",
      "Negative => I know everyone's feeds are filled with election bullshit but I'm filled with so much sadness tonight, how did it get this bad.\n",
      "Negative => RT @ShadyMileyTea: I literally can't believe what's going on with the presidential election. How can someone vote for Trump? https://t.co/T…\n",
      "Positive => RT @CallMeFebreze: If it doesn't strike you as odd that people are scared, legitimately scared, of the outcome of this election, I don't kn…\n",
      "Positive => I definitely stayed up to watch game 7 of World Series, but I'm going to bed before the election is over. Priorities people, priorities.\n",
      "Positive => @Ameen_HGA @MikeOLoughlin I know so many \"evangelicals\" that locked in votes after the last debate &amp; decided solely based on that.\n",
      "Positive => RT @Natasha_Nicole8: Very disheartening to think that my rights, as a gay human being,may be compromised in the coming years because of thi…\n",
      "Positive => America 🇺🇸 https://t.co/e5TSC8n2uS\n",
      "Negative => RT @realDonaldTrump: Don't let up, keep getting out to vote - this election is FAR FROM OVER! We are doing well but there is much time left…\n",
      "Positive => CANNOT BELIEVE 11,000 PEOPLE VOTED FOR THE DAMN GORILLA\n",
      "Positive => Can we hurry this shit up, I just wanna go to bed\n",
      "Negative => ok since im a bio major on a pre-med track i cant use study abroad to escape america\n",
      "Negative => RT @joanneprada: 2016 election: the ultimate scam\n",
      "Positive => Donald Trump is president. I will continue to make shit wages and nothing will change. That is America\n"
     ]
    }
   ],
   "source": [
    "stream = api.GetStreamFilter(track=[\"election\"],locations=locations)\n",
    "tweets = [stream.next() for x in xrange(40)]\n",
    "tweet_text = [x['text'].replace('\\n', '') for x in tweets]\n",
    "input_data = vect.transform(tweet_text)\n",
    "predictions = classifier.predict(input_data)\n",
    "for x in zip(tweet_text, predictions):\n",
    "    print \"{} => {}\".format(\"Positive\" if x[1] > 0 else \"Negative\", x[0].encode('utf-8'))\n",
    "tweets_dump.extend(zip(tweets, predictions))"
   ]
  },
  {
   "cell_type": "code",
   "execution_count": 309,
   "metadata": {
    "collapsed": false
   },
   "outputs": [],
   "source": [
    "%matplotlib inline"
   ]
  },
  {
   "cell_type": "code",
   "execution_count": 310,
   "metadata": {
    "collapsed": false
   },
   "outputs": [],
   "source": [
    "sentiments = [x[1] for x in tweets_dump]"
   ]
  },
  {
   "cell_type": "code",
   "execution_count": 311,
   "metadata": {
    "collapsed": false
   },
   "outputs": [
    {
     "data": {
      "text/plain": [
       "(411, 229)"
      ]
     },
     "execution_count": 311,
     "metadata": {},
     "output_type": "execute_result"
    }
   ],
   "source": [
    "from collections import Counter\n",
    "c= Counter(sentiments)\n",
    "(c[-1],c[1])"
   ]
  },
  {
   "cell_type": "code",
   "execution_count": 312,
   "metadata": {
    "collapsed": false
   },
   "outputs": [
    {
     "data": {
      "text/plain": [
       "array([0, 1])"
      ]
     },
     "execution_count": 312,
     "metadata": {},
     "output_type": "execute_result"
    }
   ],
   "source": [
    "np.arange(2)"
   ]
  },
  {
   "cell_type": "code",
   "execution_count": 313,
   "metadata": {
    "collapsed": false
   },
   "outputs": [
    {
     "data": {
      "text/plain": [
       "[<matplotlib.text.Text at 0x113be0410>, <matplotlib.text.Text at 0x113f6c190>]"
      ]
     },
     "execution_count": 313,
     "metadata": {},
     "output_type": "execute_result"
    },
    {
     "data": {
      "image/png": "[encoded data removed]",
      "text/plain": [
       "<matplotlib.figure.Figure at 0x113b942d0>"
      ]
     },
     "metadata": {},
     "output_type": "display_data"
    }
   ],
   "source": [
    "fig,ax = plt.subplots()\n",
    "width=0.3\n",
    "ax.bar(np.arange(2), (c[-1],c[1]),align='center', width=width)\n",
    "ax.set_xticks(np.arange(2))\n",
    "ax.set_xticklabels((\"Negative\", \"Positive\"))"
   ]
  }
 ],
 "metadata": {
  "kernelspec": {
   "display_name": "Python 2",
   "language": "python",
   "name": "python2"
  },
  "language_info": {
   "codemirror_mode": {
    "name": "ipython",
    "version": 2
   },
   "file_extension": ".py",
   "mimetype": "text/x-python",
   "name": "python",
   "nbconvert_exporter": "python",
   "pygments_lexer": "ipython2",
   "version": "2.7.12"
  }
 },
 "nbformat": 4,
 "nbformat_minor": 0
}
