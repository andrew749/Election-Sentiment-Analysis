{
 "cells": [
  {
   "cell_type": "markdown",
   "metadata": {},
   "source": [
    "# Analyze tweets for sentiment\n",
    "A simple project to analayze tweets by topic in different areas of the World"
   ]
  },
  {
   "cell_type": "code",
   "execution_count": 1,
   "metadata": {
    "collapsed": true
   },
   "outputs": [],
   "source": [
    "import pandas as pd\n",
    "import numpy as np\n",
    "import sklearn as sk\n",
    "import matplotlib.pyplot as plt"
   ]
  },
  {
   "cell_type": "code",
   "execution_count": 2,
   "metadata": {
    "collapsed": true
   },
   "outputs": [],
   "source": [
    "import os, sys"
   ]
  },
  {
   "cell_type": "code",
   "execution_count": 3,
   "metadata": {
    "collapsed": false
   },
   "outputs": [],
   "source": [
    "positive_reviews = []\n",
    "pos_path = '/Users/andrewcodispoti/Downloads/review_polarity/txt_sentoken/pos'\n",
    "for pos_file in os.listdir(pos_path):\n",
    "    with open(os.path.join(pos_path, pos_file)) as f:\n",
    "        positive_reviews.append(f.readlines())"
   ]
  },
  {
   "cell_type": "code",
   "execution_count": 4,
   "metadata": {
    "collapsed": true
   },
   "outputs": [],
   "source": [
    "negative_reviews = []\n",
    "neg_path = '/Users/andrewcodispoti/Downloads/review_polarity/txt_sentoken/neg'\n",
    "for neg_file in os.listdir(neg_path):\n",
    "    with open(os.path.join(neg_path, neg_file)) as f:\n",
    "        negative_reviews.append(f.readlines())"
   ]
  },
  {
   "cell_type": "code",
   "execution_count": 5,
   "metadata": {
    "collapsed": false
   },
   "outputs": [],
   "source": [
    "positive_reviews = [\"\".join(x).replace('\\n', '') for x in positive_reviews]\n",
    "negative_reviews = [\"\".join(x).replace('\\n', '') for x in negative_reviews]"
   ]
  },
  {
   "cell_type": "markdown",
   "metadata": {},
   "source": [
    "Now we have our reviews relatively clean and in a form that we can tokenize them"
   ]
  },
  {
   "cell_type": "markdown",
   "metadata": {},
   "source": [
    "## Tokenize reviews"
   ]
  },
  {
   "cell_type": "code",
   "execution_count": 6,
   "metadata": {
    "collapsed": true
   },
   "outputs": [],
   "source": [
    "from sklearn.feature_extraction.text import TfidfVectorizer\n",
    "vect = TfidfVectorizer(min_df=5, max_df=0.95, sublinear_tf=True)"
   ]
  },
  {
   "cell_type": "code",
   "execution_count": 7,
   "metadata": {
    "collapsed": true
   },
   "outputs": [],
   "source": [
    "training_counts = vect.fit_transform(positive_reviews + negative_reviews)"
   ]
  },
  {
   "cell_type": "code",
   "execution_count": 8,
   "metadata": {
    "collapsed": true
   },
   "outputs": [],
   "source": [
    "full_data = positive_reviews + negative_reviews"
   ]
  },
  {
   "cell_type": "code",
   "execution_count": 9,
   "metadata": {
    "collapsed": true
   },
   "outputs": [],
   "source": [
    "training_Y = [1] * 1000 + [-1] * 1000"
   ]
  },
  {
   "cell_type": "markdown",
   "metadata": {},
   "source": [
    "## Train a classifier on the number of occurences of each word"
   ]
  },
  {
   "cell_type": "code",
   "execution_count": 10,
   "metadata": {
    "collapsed": false
   },
   "outputs": [
    {
     "data": {
      "text/plain": [
       "SVC(C=1.0, cache_size=200, class_weight=None, coef0=0.0,\n",
       "  decision_function_shape=None, degree=3, gamma='auto', kernel='linear',\n",
       "  max_iter=-1, probability=False, random_state=None, shrinking=True,\n",
       "  tol=0.001, verbose=False)"
      ]
     },
     "execution_count": 10,
     "metadata": {},
     "output_type": "execute_result"
    }
   ],
   "source": [
    "from sklearn import svm\n",
    "classifier = svm.SVC(kernel='linear')\n",
    "classifier.fit(training_counts, training_Y)"
   ]
  },
  {
   "cell_type": "code",
   "execution_count": 11,
   "metadata": {
    "collapsed": true
   },
   "outputs": [],
   "source": [
    "def predict(sentence):\n",
    "    d = vect.transform([sentence])\n",
    "    return classifier.predict(d)"
   ]
  },
  {
   "cell_type": "code",
   "execution_count": 12,
   "metadata": {
    "collapsed": false
   },
   "outputs": [
    {
     "data": {
      "text/plain": [
       "array([-1])"
      ]
     },
     "execution_count": 12,
     "metadata": {},
     "output_type": "execute_result"
    }
   ],
   "source": [
    "predict(\"terrible product, would buy again\")"
   ]
  },
  {
   "cell_type": "markdown",
   "metadata": {},
   "source": [
    "## Test with some randomly selected training data"
   ]
  },
  {
   "cell_type": "code",
   "execution_count": 13,
   "metadata": {
    "collapsed": false
   },
   "outputs": [],
   "source": [
    "indices = [np.random.randint(2000) for x in xrange(10)]\n",
    "test_data = [full_data[x] for x in indices]"
   ]
  },
  {
   "cell_type": "code",
   "execution_count": 14,
   "metadata": {
    "collapsed": false
   },
   "outputs": [
    {
     "data": {
      "text/plain": [
       "[1884, 1477, 203, 1028, 1221, 847, 280, 641, 1396, 1626]"
      ]
     },
     "execution_count": 14,
     "metadata": {},
     "output_type": "execute_result"
    }
   ],
   "source": [
    "indices"
   ]
  },
  {
   "cell_type": "code",
   "execution_count": 15,
   "metadata": {
    "collapsed": false
   },
   "outputs": [],
   "source": [
    "indices_mask = pd.Series(indices) < 1000"
   ]
  },
  {
   "cell_type": "code",
   "execution_count": 16,
   "metadata": {
    "collapsed": false,
    "scrolled": true
   },
   "outputs": [
    {
     "name": "stdout",
     "output_type": "stream",
     "text": [
      "Predicted Sentiment : Negative, Actual Sentiment:Negative\n",
      "\n",
      "for those interested in the true spirit of moviemaking - or what's left of it in mainstream hollywood - movie which are star vehicles are terrible things . as a rule , the ignore general principles of cinema because they are not made to advance the media but rather to advance the career of a particular actor . an actor might be chosen on the up-and-up , to give him exposure ; or he might be chosen on the way down to hand him a paycheck . generally , though , the actor doesn't matter , and soldier , the latest from the beleaguered warner brothers , exemplifies this : the picture lacks pizazz . the star for the vehicle in this case is kurt russell , otherwise known as the man of thirty words or less . russell plays todd , a human trained from birth in the ways of waging war and becoming emotionally distanced from the carnage he has wrought . the movie lets us see this degenerate process , but by the time the real plot starts , we're into todd's later years . he's about to be replaced by a new breed of soldiers , ones who , instead of being trained * from * birth , are genetically selected * before * birth . the pride of this class - caine 607 ( jason scott lee ) - will be our villain , and you know he's the villain because he has a staring contest with our hero near the movie's start . between the two leads , less than a full typed page of dialogue is spoken , and it's possible to imagine a script which is ninety percent stage direction . director paul anderson , who helmed last year's icy thriller , event horizon , doesn't show any inventiveness here and instead is content to let the actions play out on screen ad nauseam . todd , upon being replaced , is left to die on a garbage planet ; but in order to stretch the running time out , the villains return to the garbage planet on a \" routine patrol \" and set the stage for the final firefight . events are predictable from the time that the setups are made , and neither anderson nor scriptwriter david peoples attempts to show any creativeness here . the most annoying plot facet is the reason that the whole of the movie comes to be : todd fails to show physical superiority against caine - in fact , not even todd and two of his companions can best the baddie - but near the end of the movie he shows remarkable prowess with automatic weaponry . it's not as though todd undergoes any significant character changes throughout the plot of the story , and so the plot has a very canned feeling about it . the best route through this disaster is to take it lighthearted in spirit , and treat it as a parody of typical action fare , like universal soldier . a strict interpretation , however , reveals an unmistakeable and unforgiveable lack of style , class , or substance ; and by next year , a large percentage of the people who have seen this will have taped it off of network television . \n",
      "Predicted Sentiment : Negative, Actual Sentiment:Negative\n",
      "\n",
      "the premise of the new james wong film , final destination , is that alex browning , the protagonist , prevents six of his friends from boarding a doomed airplane , thereby cheating fate . however , fate is not so easily bested , and alex's friends soon begin dying in unusual circumstances . essentially , this premise is a clever-way to make a slasher-flick without the slasher . unfortunately , this is practically the only clever thing about the film . as far as teen horror flicks go , final destination is better than many . there is enough shocking death , graphic gore , and requisite black humor to provide the essential \" roller coaster \" type thrill at the heart of the average horror flick . unfortunately , this film also suffers from the worst characteristics of this genre . the relationships between the main characters are tenuous and their motivations are meaningless except as excuse to set-up the next death . the scene where two of the characters break into a funeral home to view the body of their recently killed friend is suppose to be scary and dramatic but features some of the dumbest dialogue i have witnessed . if you are looking for a saturday night thriller to scare your date , this film might do the trick . other than that , wait until it goes into heavy-rotation on cable . \n",
      "Predicted Sentiment : Positive, Actual Sentiment:Positive\n",
      "\n",
      "he has spent his entire life in an awful little apartment , raised and cared for and imprisoned by his domineering mother . she inspires his love and his fear , and instills in him a similar love and fear of jesus . he has a rudimentary grasp of language , mouthing monosyllables and repetitions of his mother's phrases . he is taught that the world outside is fatally poisonous ; his mother dons a gasmask whenever she goes out the door . he is 35-years-old in body , but a child in mind and spirit . he is the premise for bad boy bubby , a defiantly original australian movie about a man called bubby ( nicholas hope ) who has spent his entire life in an awful little apartment , etc . , etc . then one day his father ( ralph cotterill ) appears . his father is a shabby down-at-heels priest who appears to have permanently misplaced his religion . unsurprisingly , he is not thrilled with the way \" his \" boy has turned out . he is , however , rather pleased at renewing his acquaintance with the mother ( claire benito ) , and , more to the point , her ample breasts . soon they are copulating on the dingy couch , while bubby crouches , confused , in the next room , acutely aware that the mother who had devoted all her attention to him has a new interest . bubby's relationship to the world may be warped , but it is at least stable . the father's arrival disturbs his precarious balance , causing an oedipal conflict which ends--freud would be pleased--in violence and , as a result , freedom . bubby intuits from his father's arrival that the air outside is breathable : he leaves the apartment , his past , his world , behind . so far , so good . the first thirty minutes or so of bad boy bubby , which bring us to this point , are quite brilliant . the movie is at its best when its stays within the constraints of bubby's hermetic two-room universe . it follows through unrelentingly on the implications of its premise : bubby is used by his mother for sex , he unwittingly suffocates the pet cat with cellophane , he is terrifed by the notion that jesus will beat him senseless if he sins . it is grim and savage and appalling , but also strangely tender--de heer , having imagined a life as bizarre as bubby's , does not exaggerate for comic or grotesqe purposes , but simply empathizes . he observes what it might be like . the intensity of these opening scenes , with their minimalist mise-en-scene , immerses us in a claustrophobic environment which seems to be a decayed stratum of our own world , and owes much to david lynch's eraserhead , not least the ambient industrial white noise of the soundtrack . for thirty minutes , the movie maintains the feel and mood of a reality that does not seem far removed from our own . then de heer lets bubby out , brings him into contact with our world , and the film never quite recovers . our unlikely hero finds himself in port adelaide , where he wanders the streets and meets people , where he suffers and learns and survives . he is seduced by a young woman from a salvation army band ( how an anti-social half-wit with no sense of hygiene manages to get laid mere hours after his escape is not the sort of question the film encourages , wisely ) ; he is given free pizza by a sympathetic waitress ; he insults a traffic cop and is punched in the stomach ; he shares a few beers in the back of a truck with a rock group ; he is imprisoned and raped ; he becomes a translator for mentally handicapped people whose speech is impaired beyond comprehension ; he is loved by a motherly large-breasted nurse ( carmel johnson ) .  .  . it goes on , by turns inventive , silly , tasteless , endearing , and sometimes all of these things at once . de heer never seems to be sure how bubby should interface with the real world : the tone shifts , uneasily , from fable to realism to satire and back again . the scenes which try to touch base with a believable version of reality are the weakest ; the film is best understood as a kind of parable , and , indeed , the religious implications of bubby's experiences are foregrounded : icons of jesus on the cross hang from the mother's walls , bubby dons a priest's collar stolen from his father , a church organ-playing atheist lectures him on the necessity of unbelief , the woman who redeems him is named angel . the manifold stresses of our world do not shatter bubby's mind , do not fragment him into psychosis ; rather , the world accomodates him , and heals him . although de heer's touch is at times overbearing , bubby's salvation is touching ; what seemd at first a harsh lesson in the damaging effects of the social construction of reality becomes a na ? ve humanist tale of improbable hope . a hapless rock group write a song about bubby and sing it for him and so give him the gift of community . he returns the favour when he steps on stage one night and becomes their frontman , turning the fragmented impressions of his experiences into performance art , and turning the band into a popular draw . innocence triumphs . bubby becomes a holy fool , an idiot savant , and graces us with wisdom . it's a strange turn of events , but by now we shouldn't be surprised , because bad boy bubby ain't like other movies . \n",
      "Predicted Sentiment : Negative, Actual Sentiment:Negative\n",
      "\n",
      "a follow-up to disney's live-action \" 101 dalmatians \" that's better , more entertaining than the first ? just as unlikely . with \" 102 dalmatians , \" the disney studios have proven that when it comes to going to the dogs , more is definitely * not * the merrier . 1996's \" 101 dalmatians \" certainly wasn't the greatest movie-going experience of all time , but it did feature glenn close in an outrageous , larger-than-life performance . in addition , we had two amiable leads in the form of jeff daniels and joely richardson , and lots and lots of adorable spotted puppies . this time around there seem to be fewer puppies on the screen , and close's facial and physical gyrations are starting to feel as old as the 53-year-old actress under that startling black and white wig of hers . but that's only half the problem with kevin lima's laborious film . what makes \" 102 dalmatians \" such a collosal bore is its embarrassing attempts at humor ( here almost single-handedly foisted on a wisecracking macaw who thinks he's a dog , voiced by eric idle ) , its rabid plotlessness ( cruella goes after puppies again ; winds up in goo again ) and most of all , the incredibly wooden actors who plays the romantic \" heroes \" of the piece , a welshman named ioan gruffudd and the blander-than-bland alice evans as a parole officer named chlo ? . gruffudd is cute and harmless , perhaps , but evans can't even aspire to that . the dogs upstage them both , of course , but in the case of evans , even close's split ends are more animated . bad acting , however , seems to be a requirement for this sequel , since g ? rard depardieu shows up as a french furrier with a haircut like robert de niro's in \" men of honor . \" jean pierre le pelt is a flamboyant fashion designer with a penchant for fine furs and depardieu's over-the-top antics mimic those of the campy close flail for flail , and wail for wail . france's most popular export besides brie has long since turned into a caricature of himself , and in \" 102 dalmatians \" the producers milk that realization for all it's worth--le pelt likes to refer to the furry little critters as \" poopies , \" par example ( and ad nauseum ) . the finesses of the script ( attributed to four screenwriters no less , and far removed from anything dodie smith ever dreamed up ) are quickly dispensed with , since all it takes for a paroled cruella to be shaken from her years of successful aversion therapy in the slammer is the tolling of big ben ( ? ) . that done , it's back to the mansion to roll around in her heretofore off-limits sables and minks and a plan to skin those little dahlings for the sake of a hooded designer gown . the dogs are pretty cute--try making a puppy look otherwise--but that's pretty much all they are . there's always the feeling that there's a trainer off in the wings , coaxing the dogs to open doors , or pick up their food bowls in unison , or pop a tape into the videocasette recorder . savvy holiday goers should skip \" 102 dalmatians \" and pop the original 1961 animated classic into * their * vcrs instead . it's one dalmatian less , but 101% more satisfying . \n",
      "Predicted Sentiment : Negative, Actual Sentiment:Negative\n",
      "\n",
      "it's probably inevitable that the popular virtual reality genre ( \" the matrix , \" \" existenz \" ) would collide with the even more popular serial-killer genre ( \" kiss the girls , \" \" se7en \" ) . the result should have been more interesting than \" the cell . \" as the movie opens , therapist catharine deane ( jennifer lopez ) treats a catatonic boy ( colton james ) by entering his mind through some sort of virtual reality technique that's never fully explained . after months of therapy sessions in a surreal desert , catharine has no success to report . meanwhile , killer carl stargher ( vincent d'onofrio ) has claimed another victim . his particular hobby is to kidnap young women , keep them in a glass cell overnight , and drown them . he takes the corpse and soaks it in bleach , then suspends himself over the body and jerks off while watching a video tape of the drowning . although carl's been doing this for awhile , he's recently become sloppy , and fbi agent peter novak ( vince vaughn ) is closing in fast . not fast enough , though , to keep carl from sticking another woman ( tara subkoff ) in the cell or to catch him before he suffers a schizophrenic attack that leaves him in a coma . from the videos in carl's house , peter can see that the drowning cell is automated and will fill with water forty hours after the abduction . to save the kidnapped girl , peter has to find the cell before the end of the day , and comatose carl's not talking . so off they go to catharine in the hope that she can go inside carl's mind and find out where the cell is in time . the focus of \" the cell \" in on the ornate interior of carl's mind , but the universe director tarsem singh creates seems more an exercise in computer-generated spectacle than an exploration of the psychotic personality . for the most part , it's style without substance . in his own mind , carl is a decadent emperor in flowing robes , ming the merciless , as well as a frightened boy ( jake thomas ) abused by his father . all in all , the mind of a psycho killer turns out to be a strangely dull place , and i kept wishing i could fast-forward to the next development . singh is best known for directing music videos , particularly rem's \" losing my religion , \" and \" the cell \" seems very much like a really long , really slow mtv video with the sound deleted . singer lopez seems to think she's in a video as well ; she devotes more time to posing in elaborate costumes than she does to acting . the premise had great promise . the computer-generated world within carl's mind could have been a bizarre , surreal universe governed by insanity and symbolism rather than logic . the first room catharine enters in carl's head shows this promise . she finds a horse standing in center of the room ; suddenly , sheets of sharp-edged glass fall into the horse , dividing it into segments . the panes of glass separate , pulling apart the pieces of the still-living horse . this scene is twisted , disturbing , and thought-provoking , because the psychological importance of the horse and its fate is left to the viewer to ponder . another element that should have been developed is the effect on catharine of merging with the mind of a psychopath . their minds begin to bleed together at one point in the movie , and this should have provided an opportunity to discover the dark corners of catharine's own psyche . like sidney lumet's \" the offence \" or michael mann's \" manhunter , \" \" the cell \" could have explored how the madness of the killer brings out a repressed darkness in the investigator . however , catharine's character is hardly developed at all , and lopez has no depth to offer the role . bottom line : don't get trapped in this one . \n",
      "Predicted Sentiment : Positive, Actual Sentiment:Positive\n",
      "\n",
      "bruce lee was a bigger-than-life martial artist ( and ) actor . bruce's unique character ( i . e . , self-produced sound effects , etc . ) and seemingly perfected martial art and physique were all well portrayed by the actor , james lee . the story is told from his wife linda's point of view where she put a lot of family and practical side of bruce lee's life . however , you can't help but like , whenever the fight scenes are on , what he can does with his body and that familiar bruce attitude and character . i also like the little bits of insight scenes about bruce lee's life before he became famous : scenes like bruce practicing pronunciation of english . it seemed as if he was no better than anybody else . scenes like bruce delivering chinese food as a delivery boy ridding a bike through the american college looking at the ( all-white ) students , cheerleaders , and athletes . it seemed he too wished for the american dreams and hopes . in conclusion , the movie was well made , it produced a realization of who bruce lee was , and actor james lee was so much like bruce you have to remind yourself that he is just an actor . and the fighting scenes were all excellent . so go see it and enjoy the movie . p . s . if you have seen the movie unforgiven by clint eastwood , then the feeling left after dragon was very much like the feeling you got after the unforgiven . \n",
      "Predicted Sentiment : Positive, Actual Sentiment:Positive\n",
      "\n",
      "this three hour movie opens up with a view of singer/guitar player/musician/composer frank zappa rehearsing with his fellow band members . all the rest displays a compilation of footage , mostly from the concert at the palladium in new york city , halloween 1979 . other footage shows backstage foolishness , and amazing clay animation by bruce bickford . the performance of \" titties and beer \" played in this movie is very entertaining , with drummer terry bozzio supplying the voice of the devil . frank's guitar solos outdo any van halen or hendrix i've ever heard . bruce bickford's outlandish clay animation is that beyond belief with zooms , morphings , etc . and actually , it doesn't even look like clay , it looks like meat . \n",
      "Predicted Sentiment : Positive, Actual Sentiment:Positive\n",
      "\n",
      "john sayles' \" men with guns \" is about what happens to a society when brute force and constant threat of violence are the only means of gaining and maintaining power . the film takes place in an unnamed central american country , where the men with guns are the rulers . most of the country is divided into tiny segments - some are controlled by guerrillas with guns , some are controlled by army soldiers with guns , and all the spaces in-between are controlled by thieves , bandits , and terrorists . all people not fitting one of those descriptions are defined only by their powerlessness . however , like so many central american countries , this one also features modernity . there is an unnamed capital city that bears all the hallmarks of contemporary civilization : skyscrapers , hospitals , televisions , highways , etc . but , it might as well be in another country because those who live in the comforts of the city have either decided to ignore the violence ravaging the rest of the land , or else they are simply ignorant of it . the film's main character , dr . fuentes ( federico luppi ) falls into the latter category . one of his patients , an army general , describes him as the most educated man he has ever met , and also the most naive . fuentes is a true liberal , a caring man who thinks he can cure the ills of his country by fighting bacteria and ignorance among the indigenous indians . with government assistance , he has trained a large group of eager young medical students and sent them into the rainforest to cure and educate . this program was to be his legacy , and he repeats over and over that it was a good idea . however , when he ventures into that same rainforest to visit his prot ? g ? s , he finds that things have not turned out as he has envisioned . as he travels deeper into the forest , going from village to village , the story is always the same : the doctors were all killed by either the guerrillas or the army soldiers , usually for helping the other . when dr . fuentes asks a village woman why the army killed one of the doctors , she replies simply , \" because they had guns , and we didn't . \" rational science and all its attempts to cure have been wiped out by the men with guns , because others' sickness and ignorance helps them maintain power . dr . fuentes picks up several companions during his journey , all of whom are characterized by their loss . first , there is a young boy named conejo ( dan rivera gonz ? lez ) , who has neither a mother nor a father . next , fuentes crosses paths with a thief named domingo ( dami ? n delgado ) , who deserted the army because he was tired of being jeered into committing murderous atrocities . through his ordeal in the army , domingo has lost most of his self-respect , and defines himself only by his pistol . along the way , the group also picks up padre portillo ( dami ? n alc ? zar ) , a priest who has lost his faith . as domingo is running from the army , so is portillo - he has been labeled a guerrilla sympathizer , and ran away from the village in which he was preaching . last , the group takes on a mute girl named graciela ( tania cruz ) , who hasn't spoken since she was raped two years earlier , her innocence and even her will to live forcefully taken from her . sayles two major strengths as a director - characters and setting - are abundantly evident in \" men with guns . \"  ( like many of his films , sayles might have tightened this one somewhat in the editing room , but a longer-than-necessary running time is a sin almost always committed when the director is also the editor . ) he creates fascinating , complex characters , especially dr . fuentes and domingo . their uneasy relationship is also somewhat humorous in context of the film's overarching theme of violence as power - domingo's attempts to control fuentes with his revolver are constantly undermined by fuentes' belief that the revolver is unloaded ( at first it is , but later is isn't ) . the setting is also as thick with detail as the rainforest itself . sayles knows how to bring a location to life , whether it be an early twentieth-century coal mining town in \" matewan \" ( 1987 ) or a contemporary texas/mexico bordertown in \" lone star \" ( 1996 ) . sayles is not a particularly inventive director - he likes to let his actors do most of the work - but he and cinematographer slavomir idziak ( \" gattaca \" ) successfully evoke both the beauty and the danger of the central american terrain . sayles also maintains a strong sense of authenticity by filming everything on location in mexico , using all latin american actors , and having all the dialogue spoken in either spanish or native indian dialects . the one exception is a couple of bumbling american tourists who work not only as comic relief , but as evidence of just how clueless the united states is about what is going on a few hundred miles south of the texas border . it would not be a stretch to say that \" men with guns \" is a depressing film . in fact , the two feelings it evokes most are hopelessness and failure . in addition to loss , the main characters are also failures at something , whether that be dr . fuentes failure to change anything through medicine , or padre portillo's inability to stand up and be the martyr he always dreamed of being . nevertheless , it is bleak material sayles has chosen , and he deals with it accordingly . the last shot of the film does offer a hint of hope , even in a world where , as one character puts it , \" nobody refuses the men with guns . \" \n",
      "Predicted Sentiment : Negative, Actual Sentiment:Negative\n",
      "\n",
      "adam sandler isn't known for appearing in deep , thought-provoking films , but he's still a really funny guy . most of his movies are successful not because of the film making behind them , but because they let sandler do what he does best without a stupid plot to drown him out . big daddy is the first film in which the story seems more important than sandler's comic performance , and it's a miserable failure . sandler plays a thirty-something loser who gets attached to an orphaned young boy ( played by cole and dylan sprouse ) . as one might expect from the synopsis , director dennis dugan resorts to the usual bag of manipulative and sentimental sequences , including a repulsive courtroom battle and a lot of teary scenes in which characters say \" good-bye \" to one another ; in addition , there's a ridiculous amount of disgusting toilet humor ( urine and vomit both get more screen time than sandler himself ) . there's a hilarious running joke featuring a female doctor who previously worked at hooters , and the film features passable performances from sandler , joey lauren adams ( as the love interest ) , and the two young boys , but the film on the whole is trite and disappointingly unfunny . \n",
      "Predicted Sentiment : Negative, Actual Sentiment:Negative\n",
      "\n",
      " \" tina ! ! ! fetch me the axe ! ! ! \" a favourite book of mine called the golden turkey awards relates the story that when mommie dearest was unleashed upon unsuspecting audiences back in 1981 , paramount soon realised they had a problem on their hands . it wasn't just the film's disappointing box office performance . indeed , in the coming years some people would be going back to see it two , three , even six times . no , the main problem was that what was intended as a serious biopic of screen queen joan crawford was turning into the laugh riot of the year . in a desperate attempt to capitalise on this unexpected turn of events , some publicity hacks dreamed up outrageous print advertisements screaming : \" mommie dearest : the biggest mommie of them all ! \" . executives at paramount were appalled and soon had the ads withdrawn , but it was all too late . mommie dearest was already cementing its place in camp cinema history . unfortunately , faye dunaway's energetic , at times ridiculously over-the-top performance is about the film's only redeeming feature . based on daughter christina crawford's trashy biography , mommie dearest chronicles a series of mainly private events in the life of her moviestar mother . if you believe this movie , it was a life was racked by obsession , lonliness , child abuse and rampant egomania . the film begins with crawford adopting two children , and concludes in the office of her lawyer where her now grown-up daughter and son find out they have been left out of their mother's will . joan always wanted her kids to be able to fend for themselves , you see . but that's about the only thread in the narrative that manages to survive to the film's end . the script - laboured over by four writers , a bad sign in itself - is a poorly connected series of episodes that builds little dramatic momentum . frank perry's direction is no more than competent , and dunaway's bitchy lines aside , the dialogue is flat and uninvolving . in fairness , the film's second half ditches some of the cartoon hysterics and does develop a degree empathy for its characters . when the adult christina moves out of home into her own modest dwelling , joan visits and keeps in touch , not helping her financially but encouraging christina's own acting and career ambitions . crawford does seem to care about her daughter , but you can sense the emotional distance and feel some of their pain . you also get glimpses of what the film could have been in the hands of better writers . ah , but there is dunaway's performance . and what a delicious piece of campery it often is . having just been sacked by her studio after a run of box office duds , crawford storms home late at night and proceeds to go ballistic in the garden . she has the maid drag the kids out of bed to come down and clean up the mess she's making . spotting a young tree she doesn't like the look of , she turns to the trembling christina and utters the immortal line \" tina ! ! fetch me the axe ! ! \" with which she proceeds to enthusiastically dismember the poor sapling . in the film's most outrageous scene , joan realises that some of her daughter's clothes are hanging on wire coat hangers . oh dear ! sounds like the perfect excuse for another temper tantrum , doesn't it ? this time she gives her daughter a horrible beating while delivering another classic outburst : \" no . . . wire . . . hangers . . . . ever ! ! ! ! \" . and later , when the board of her late husband's company pepsi cola tries to divest her of her directorship , she displays a superb grasp of business etiquette by jumping to her feet and roaring : \" don't fuck with me , fellas ! ! \" . oh joy ! something of a camp classic , then , but if that's not you're cup of tea then mommie dearest doesn't have too much to recommend it . better you see the real crawford in the women ( 1939 ) , mildred pierce ( 1945 ) or whatever happened to baby jane ( 1962 ) . great films distinguished by great performances , and a far more eloquent testament to this great woman than frank perry's shrieking piece of tabloid froth . \n"
     ]
    }
   ],
   "source": [
    "predictions = classifier.predict(vect.transform(test_data))\n",
    "for x, y, z in zip(test_data, predictions, indices_mask):\n",
    "    print \"Predicted Sentiment : {}, Actual Sentiment:{}\\n\\n{}\".format(\"Positive\" if y > 0 else \"Negative\", \"Positive\" if z > 0 else \"Negative\", x)"
   ]
  },
  {
   "cell_type": "markdown",
   "metadata": {},
   "source": [
    "## Get some actual data from Twitter"
   ]
  },
  {
   "cell_type": "code",
   "execution_count": 17,
   "metadata": {
    "collapsed": false
   },
   "outputs": [],
   "source": [
    "import twitter\n",
    "tweets_dump=[]"
   ]
  },
  {
   "cell_type": "code",
   "execution_count": 18,
   "metadata": {
    "collapsed": false
   },
   "outputs": [
    {
     "data": {
      "text/plain": [
       "User(ID=69760726, ScreenName=Andrewcod749)"
      ]
     },
     "execution_count": 18,
     "metadata": {},
     "output_type": "execute_result"
    }
   ],
   "source": [
    "api = twitter.Api(consumer_key='fmxnG63GbBwWLtlWyVbYKSvWq',\n",
    "consumer_secret='amrz2mFViLIHoNblxdfxmPqA1l4Wuizvh41IIa57FBST41E1f9',\n",
    "access_token_key='69760726-pXsCljdTmcBZriMPSsIoMs9dm7yWr8hmKwfaU7ZaH',\n",
    "access_token_secret='GFL4cL19wLjcLpmUBB1h8ozyigOlFyCHX15GIAVcAs1SO')\n",
    "api.VerifyCredentials()"
   ]
  },
  {
   "cell_type": "code",
   "execution_count": 19,
   "metadata": {
    "collapsed": true
   },
   "outputs": [],
   "source": [
    "locations=[\"-134.494634,25.981380,-61.219793,48.994509\"]"
   ]
  },
  {
   "cell_type": "code",
   "execution_count": 20,
   "metadata": {
    "collapsed": false,
    "scrolled": true
   },
   "outputs": [],
   "source": [
    "def get_new_tweet_data():\n",
    "    stream = api.GetStreamFilter(track=[\"election\"],locations=locations)\n",
    "    tweets = [stream.next() for x in xrange(40)]\n",
    "    tweet_text = [x['text'].replace('\\n', '') for x in tweets]\n",
    "    input_data = vect.transform(tweet_text)\n",
    "    predictions = classifier.predict(input_data)\n",
    "    for x in zip(tweet_text, predictions):\n",
    "        print \"{} => {}\".format(\"Positive\" if x[1] > 0 else \"Negative\", x[0].encode('utf-8'))\n",
    "    tweets_dump.extend(zip(tweets, predictions))"
   ]
  },
  {
   "cell_type": "code",
   "execution_count": 36,
   "metadata": {
    "collapsed": false,
    "scrolled": true
   },
   "outputs": [
    {
     "name": "stdout",
     "output_type": "stream",
     "text": [
      "Iteration 0\n",
      "Negative => I wish #BernieSanders was the elected  nominee. #DNC say no to #Superdelegate #RiggedSystem #RiggedPrimary… https://t.co/syZvqUmqDM\n",
      "Negative => So let me get this straight...the fact that Donald Trump is going to win this election has to do with white supremacy?\n",
      "Positive => RT @TrrumpTheType: #TrumpTheType to win the election and have a threesome with his daughter &amp; son to Celebrate\n",
      "Negative => Bout to join the army and move to the U.K.\n",
      "Negative => Our children deserve better than what's in store for this country.\n",
      "Positive => Maybe election fraud and ballott stealing and voter machine rigging and voter roll purging will get the attention... https://t.co/oZvb3zx5DD\n",
      "Negative => RT @CNN: .@VanJones68 on Russia: This is the first election where an enemy power explicitly interfered and got away with it https://t.co/wJ…\n",
      "Positive => RT @guardian: US election 2016: Donald Trump poised to defeat Hillary Clinton – live https://t.co/Zk40wBl9BR #ElectionNight\n",
      "Negative => RT @Reuters: Oil tumbles as Trump leads U.S. election in potential Brexit deja-vu: https://t.co/tnxIQv7RAo https://t.co/mwF1sv6EMe\n",
      "Positive => RT @CommonWhiteGrls: What the Election map would look like if it was honest https://t.co/IBDYalwd6M\n",
      "Negative => Id rather a business man over a liar i guess 🤗\n",
      "Negative => Lmfaoooooooooooooooo https://t.co/dBWyaXAL2N\n",
      "Negative => Chill tf out. https://t.co/Ze32435sVY\n",
      "Positive => I'm PROUD to say I was alive and able to witness the FIRST black PRESIDENT 🙌🏾.\n",
      "Negative => they legalized marijuana for a reason , to calm all our headed asses down BC of the election\n",
      "Negative => If you are a minority in this country, aka not white, you should not be happy about the outcome of this election\n",
      "Negative => RT @GiamPietroVI: When you're trying to figure out how you lost a rigged election but you accidentally deleted the email with the ful… \n",
      "Negative => Waiting on them to finish counting the...😴 https://t.co/ybFKcFccAe\n",
      "Positive => RT @BillRatchet: crazy how election day is on 4/20 this year\n",
      "Negative => @alanpz14 @AdamPRoberts44 I'm so mad at them. How can they do this. On an election where it matters the most.\n",
      "Positive => If you think your upset with the election your not nearly as disappointed as this dude 😂 https://t.co/ads4OgTuw9\n",
      "Negative => RT @markos: My first post-election project: Bernie Sanders for DNC Chair.\n",
      "Negative => @neontaster With the election of Trump now it probably wont happen? I dont know.Come on, the point should be clear.\n",
      "Positive => @meg_robbie I'm gonna punch you in the boob if you voted for Trump lol\n",
      "Negative => RT @rjames1928: Funny that media so quick all year to report is actively avoiding reporting the election results. No one wants to confirm w…\n",
      "Negative => RT @cthagod: I wonder if Donald Trump thinks the election is still rigged?\n",
      "Negative => RT @LOHANTHONY: if trump wins the election i'm pretending i'm straight so i can volunteer at my local conversion camp and save some of my L…\n",
      "Negative => GMFU https://t.co/45Nj0cO0jG\n",
      "Negative => RT @DanRiehl: OVER https://t.co/rdlSWCHUEy\n",
      "Negative => RT @AlbertoAmaya_: Our young Generation loves acting until its TOO DAMN LATE. This election is proof we all acted on this too late.It was o…\n",
      "Negative => RT @desusnice: If you're feeling bad about the election results remember we're also killing off all the bees so we'll probably all be dead…\n",
      "Positive => RT @pquaife: If Donald Trump wins the election I will absolutely not stand for the national anthem again. Period. My pride in this country…\n",
      "Positive => Well trump I hope you know the target on your back now is huge,\n",
      "Negative => RT @DylanByers: From @CNNMoney Mexican peso tumbles to all-time low https://t.co/phlv6Fyaui\n",
      "Negative => Am so upset I can't sleep.\n",
      "Positive => RT @abc13houston: 1,455 days until Election Day 2020.\n",
      "Negative => RT @Swaggy_Chrisss: Shoulda handed it off to Bernie https://t.co/lcaNb4Xm7G\n",
      "Positive => RT @Amortalia_: I don't see how anybody can be joking about this election rn\n",
      "Positive => It's crazy 🙉\n",
      "Positive => A 2016 election currently being won by someone who spouts 1923 rhetoric. It once read like dystopian satire, now it'll be world history.\n",
      "Iteration 1\n",
      "Negative => @xojessicayleen 😂😂, I mean it's there own opinion and it's there right haha\n",
      "Negative => https://t.co/BSHhZEjZEG\n",
      "Negative => American's have until Jan 20th to make living arrangement's to get out of America @IDontNeedAMap82 Canada might be 1st place to call home.\n",
      "Negative => so trumps not corrupted? And how the hell you tweet some shit like this and use an Obama gif? 🤔 https://t.co/6qB6z1m7oQ\n",
      "Negative => Dear female friends from other countries, marry me so I can come live with you. I can bake and mix a cocktail really well\n",
      "Negative => @CBSNews as you blackballed him, lied about him and made up quotes attributed to him, I doubt you have a clue what he will do @Manitobagal\n",
      "Positive => @GopAaron @stadog /. Thank you Michigan !!!\n",
      "Negative => RT @JayBeActinUp: do ya thang @GeorgeBush https://t.co/4tKKkigk43\n",
      "Negative => @ChaseTralka Tacky? Gold leaf?\n",
      "Negative => RT @TheFix: Republicans hold the Senate. Would have been unthinkable at the start of this election\n",
      "Negative => RT @NewsHour: All five states -- CA, NV, AZ MA and ME -- with measures to raise/maintain #minimumwage passed on Election Day. #ElectionNight\n",
      "Negative => RT @greggrunberg: At least I won't get arrested in CA for all the pot I'm planning on smoking to deal with this election disaster!\n",
      "Negative => BBC News - US Election 2016: Asia markets jolted by vote results https://t.co/RzxczWMMrG\n",
      "Negative => Can this election be over already? I wanna sleep.\n",
      "Positive => Lemme go an soak my garri now, it will swell up by the time they announce the winner of the election\n",
      "Negative => RT @cnni: .@VanJones68 on Russia: This is the first election where an enemy power explicitly interfered and got away with it https://t.co/s…\n",
      "Negative => RT @Prince__Suburan: THIS ELECTION NEEDS TO BE SHUT DOWN 💯 https://t.co/TWLusQanIO\n",
      "Negative => RT @BNONews: BREAKING: South Korean government calls emergency meeting over U.S. election impact - Yonhap\n",
      "Positive => Commentators and political experts are stunned at how out of touch they are with the American public. They missed this one big time.\n",
      "Negative => and you wonder why people don't take millennial seriously or respect our voices during this election! hm! https://t.co/KxJWVHjwvf\n",
      "Positive => Indeed. https://t.co/KLLCnxxTeD\n",
      "Negative => RT @GuthrieGF: Lots of Christian progressives freaking out about election... where were you during this election? Calling only for \"healing…\n",
      "Positive => RT @ezraklein: So many of the people who will truly suffer for this election have not yet been born, and had no chance to vote: https://t.c…\n",
      "Positive => RT @SaraDEEZYx: Election dua crew. Join us in your duas y'all this is crucial https://t.co/Qm5hzw5io3\n",
      "Positive => RT @MonicaCrowley: Thank you, Katie! Xo RT @KatiePavlich: . MonicaCrowley was right! From the beginning https://t.co/UWb1N39Ocm\"\n",
      "Negative => RT @CNN: .@VanJones68 on Russia: This is the first election where an enemy power explicitly interfered and got away with it https://t.co/wJ…\n",
      "Negative => RT @julieplec: Seriously. @VanJones68 just spoke the loudest truth of the whole election. I am so sorry. Even Jeffrey Lord is hearing him.…\n",
      "Positive => RT @tperkins: Trump captured 81% of the evangelical vote according to ABC News exit poll. This exceeds Bush, McCain, and Romney. https://t.…\n",
      "Negative => RT @JustinLaboy: This election is a real shot at women. You can be more qualified, better educated, have more impressive resume and still n…\n",
      "Negative => As a female who's also disabled, I don't think the outcome of the election could be any worse.  It's not good for anyone honestly.\n",
      "Negative => RT @JayBeActinUp: do ya thang @GeorgeBush https://t.co/4tKKkigk43\n",
      "Negative => @jonlovett Would u provide some perspective on this election Wed? Would b appreciated, as I am now a fan of yours &amp; wanna know what u think.\n",
      "Negative => This is what colin kapernick was talking about #ElectionNight\n",
      "Negative => Nights like this I wish my sister was here .. She would have all the advice &amp; words of encouragement for me😟\n",
      "Negative => RT @otsIive: THE SUICIDE PREVENTION LINE IS FUCKING BUSY DO YOU REALIZE HOW BAD THAT IS PEOPLE WANTS TO DIE BC OF THIS ELECTION LET THAT FU…\n",
      "Negative => RT @CNN: .@VanJones68 on Russia: This is the first election where an enemy power explicitly interfered and got away with it https://t.co/wJ…\n",
      "Positive => RT @EllaWex: The ppl tweeting the most about the election are the ones whose main source is twitter lmao\n",
      "Negative => RT @RespectTheAfro_: Blaming the outcome of this election on anything but white supremacy blows my mind.\n",
      "Negative => RT @NBCPolitics: BREAKING: Nevada approves initiative to legalize marijuana, @NBCNews projects https://t.co/AvCJm4xyum #Decision2016 https:…\n",
      "Negative => I love you all. If you feel like life isn't worth living after this election, please talk to me. I love you. You are needed. ❤️️\n",
      "Iteration 2\n",
      "Negative => @maryricehasson @peterjhasson here here!\n",
      "Positive => RT @isabelleeclevia: This election is proof that your vote matters.\n",
      "Negative => @Hi_Im_CHOP naw I'm straight lol\n",
      "Positive => RT @almighty_sesay: Every college student right now just added 10 times more stress to there life because of the election\n",
      "Positive => RT @TheTypoGod: This election has shown that my racial rants are valid. Americas \"closet\" racism is plain and clear now\n",
      "Positive => RT @HollywoodLife: Canadian Immigration site CRASHES as Donald Trump leads in Presidential election https://t.co/PsfzWMg4zu #ElectionNight\n",
      "Negative => RT @BNONews: BREAKING: South Korean government calls emergency meeting over U.S. election impact - Yonhap\n",
      "Negative => RT @PpollingNumbers: BREAKING NEWS!!!Trump has won the presidential election!#ElectionNight\n",
      "Positive => No matter who wins or who you support, you've gotta admit that this is probably the worst election in the history of the United States\n",
      "Positive => The man has spoken https://t.co/rTnfMNuUbr\n",
      "Positive => RT @aliciasjasmin: I would like to remind everyone that the election of Trump will not just drastically affect us in the USA, but people al…\n",
      "Positive => RT @ABC: Standing-room only as Donald Trump supporters pack NYC's Midtown Hilton ballroom, site of  election night party.… \n",
      "Negative => US Election latestIt looks like Brexit all over again!The world could soon be a much more dangerous place if this… https://t.co/wuIyAIJjRp\n",
      "Positive => And I don't feel fine https://t.co/fw1NVRdtju\n",
      "Negative => This election wasnt about trade, jobs, etc it was about this bullshit congrats America ur fucking disgusting https://t.co/0T0BwkAcKJ\n",
      "Negative => RT @_siggplus: US punya election, rakyat kita pulak yang tak ten-trump.\n",
      "Positive => President Obama: Donald Trump Can't Win Election | CNBC https://t.co/nn8mOvdVcF\n",
      "Positive => ‘Member Bernie? Presidential Election Memes You Need to See https://t.co/uupl89zxYI https://t.co/GXeLZlwYnr\n",
      "Positive => we need to start reprinting the greenbook for travelling while Black now.........\n",
      "Negative => RT @CNN: .@VanJones68 on Russia: This is the first election where an enemy power explicitly interfered and got away with it https://t.co/wJ…\n",
      "Negative => RT @SaItInMyTea: To all you LGBTQIA people contemplating suicide tonight: Even if he wins this election, don't let him win. Please do not l…\n",
      "Positive => My kids are gonna live a world that only existed in my nightmares.\n",
      "Positive => Everyone fill up your gas tanks tonight.\n",
      "Positive => Retweetez mon tweet sur l'election night les chéris! Les français n'ont AUCUNE leçon à donner! Eux aussi se sont trompés!\n",
      "Negative => What if they changed my vote I don't put it pass them 😔\n",
      "Negative => \"No greater mistake can be made than to assume that newspapers are correct indices of public opinion.\"~Harold Holzer #ElectionNight\n",
      "Negative => I hate it when ppl take jokes too far...\n",
      "Negative => Wow. So this is what it's like to be with someone who doesn't give af😐 .. for the 3rd time🙄😒 .. fml\n",
      "Positive => RT @simon_schama: ah I see ecumenical pussy-grabber https://t.co/QkRlDTIFfI\n",
      "Positive => Praise the Lord for this delivery https://t.co/X6ISfJDi3D\n",
      "Negative => no comment https://t.co/wkEYZaAism\n",
      "Negative => This is why I #voted 3rd party. This 2 party voting needs to stop. #bringonrealchange #lookingtothefuture #electionday\n",
      "Negative => Alexis can't believe the election results 😂 https://t.co/aQHYFrO6Nt\n",
      "Negative => I have been sitting here watching and waiting for the polls to move for what feels like hours\n",
      "Negative => All this election talk really has me in the mood for a big double burger tray...🙄\n",
      "Negative => Someone call this already.  Trump is going to win.\n",
      "Positive => pieces of shit https://t.co/caGAU4h5FE\n",
      "Positive => @lizzie_beth9 thank you for seeing this just as it is. An election. Not jumping into a frenzy. More people should definitely be like you 👍\n",
      "Negative => @shoe0nhead I wrote in Bernie. I can't handle this election\n",
      "Positive => RT @mike_giglio: \"Interesting. Either way it won't change our purpose.\" message from a U.S. soldier watching election returns outside Mosul\n",
      "Iteration 3\n",
      "Negative => Ahaha yes👌🏼 https://t.co/x8LTIXvGJy\n",
      "Negative => RT @joanneprada: 2016 election: the ultimate scam\n",
      "Positive => People are googling \"what is Europe\" now.\n",
      "Positive => RT @bbollmann64: Wolf Blitzer just said CNN will report the results of the election as soon as the DNC tells CNN what to say.\n",
      "Positive => Good night y'all! Phone going off!\n",
      "Negative => I said early on I think the election that I would respect everyone's votes because that's the entire point of democracy and America\n",
      "Negative => RT @OwenJones84: This isn't like the 2015 election. This isn't like Brexit. A Trump victory would be the biggest disaster to befall the Wes…\n",
      "Positive => RT @Impolitics: This will always be remembered as the presidential election in which the KKK, the KGB and the FBI all supported the same ca…\n",
      "Negative => RT @PpollingNumbers: BREAKING NEWS!!!Trump has won the presidential election!#ElectionNight\n",
      "Negative => RT @CNN: .@VanJones68 on Russia: This is the first election where an enemy power explicitly interfered and got away with it https://t.co/wJ…\n",
      "Negative => @CelesteMoguel you don't think lyrics about degrading women and killing cops from jay Z/Beyoncé influence the way young people think?\n",
      "Positive => Every time an @npr reporter laughs while reporting the results I want to throw up.\n",
      "Positive => The Election Fables of 2016 https://t.co/pKo7T5pfL8\n",
      "Negative => RT @supershayne: In 2020, Kanye West is going to run against Donald Trump in the election.This is the world we live in.\n",
      "Positive => This guy is a loudmouth fool https://t.co/OYh2hVewTI\n",
      "Positive => RT @cariswhite: No matter what happens in this election, Jesus reigns above it all. Love wins.\n",
      "Negative => RT @CNN: .@VanJones68 on Russia: This is the first election where an enemy power explicitly interfered and got away with it https://t.co/wJ…\n",
      "Positive => RT @SKKarunara: Important thing for #lka to note from this election that workers voted for Trump as they were suffering from consequences o…\n",
      "Positive => imagine thinking the election of the new president of the united states doesn't effect your life. CANNOT RELATE\n",
      "Negative => RT @YasminYonis: Just woke up. Going back to sleep. Avoiding the election. We're fucked either way.\n",
      "Negative => RT @Mishellhinty: They all look like they'd spike my drink https://t.co/b5N8mKe7Bv\n",
      "Negative => you not alone girl, trust me my eyes are at full effect rn. https://t.co/QodW4iVJpY\n",
      "Negative => RT @JonCozart: Here are the election results if only millennials voted... Progress is the longterm future of this country for both… \n",
      "Negative => This is sickening. I've never been so disappointed by an election. I'm disappointed in America. I thought you would be better. 😔\n",
      "Positive => RT @TyreeBP: Reminder: The KKK is celebrating tonight. Openly. https://t.co/TmS6tFu4Ou\n",
      "Negative => 😞😞 its bad\n",
      "Positive => @t_carey21 I'm trolling so hard rn. Let me have my fun.\n",
      "Positive => RT @MadeleineRKelly: #ElectionNight  This election proved that everyone will forgive a man for anything, while a woman will always be judge…\n",
      "Positive => I'm usually an optimist who says those exact things! But tonight I feel like a battered American who is being force… https://t.co/bT7GoKeV60\n",
      "Positive => This is amazing, beautiful, everything 😭❤️ https://t.co/7QoHxwv2VU\n",
      "Positive => RT @bubbIypmI: here's my tweet. if trump wins the final election by the electoral college, will you feel safe to live in america? please rt…\n",
      "Negative => RT @JustinLaboy: This election is a real shot at women. You can be more qualified, better educated, have more impressive resume and still n…\n",
      "Positive => @sxnxm_ is the best tbh\n",
      "Negative => RT @CNNPolitics: Van Jones: \"This was a 'white-lash' against a changing country\" https://t.co/fVi0JzyFOr #CNNElection #ElectionNight https:…\n",
      "Negative => AIGAMI_AOFUJI 藍上∑！ アメリカ大統領選挙｜NHK NEWS WEBhttp://https://t.co/ySD62JIrcu… https://t.co/n449cgxlDn https://t.co/Vf5cGHCODF\n",
      "Negative => Canada's immigration website crashes on election night https://t.co/jht8KmssVb\n",
      "Positive => @tonyaevinger with trump having no stance, pence having a strong anti stance and most republicans sharing that as well... I think so\n",
      "Positive => RT @divineeCaroline: S/O to Donald Trump for exposing all the racists, some that I used to consider friends. This election has shown people…\n",
      "Positive => RT @abbydphillip: Clinton election party now virtually devoid of campaign staff. Locked down.\n",
      "Negative => Van Jones is the Realist.\n",
      "Iteration 4\n",
      "Positive => On Nov 8th, 2016... A new chapter of Great American History begins.  #MAGA. https://t.co/eJ2stUZ9Hd\n",
      "Negative => RT @HuffPostCanada: #Election2016 https://t.co/insb3xJGoG\n",
      "Negative => Trying so hard not to unfollow Doyin 😩\n",
      "Negative => watching the cnn coverage on dsu wifi is pissing me off\n",
      "Negative => RT @burgurll: Michellle Obama should run for president next election and her slogan should be \"Ya'll thought we were done\"\n",
      "Negative => I can now go to sleep knowing that bae is safe. I have wasted enough of tomorrow on this election.\n",
      "Negative => RT @ImThatGentleman: Americans waiting on Election results like #ElectionNight https://t.co/jsIKVEZl4K\n",
      "Negative => @JHollander92 the economy is fine. Its the racism stupid.\n",
      "Negative => RT @od1582nbng: ちなみに、人種と高等教育の有無による投票先の違いもハッキリ割れててえぐいぞ。https://t.co/iu1VHsi2Q8 https://t.co/dxolLi5suK\n",
      "Positive => RT @MadeleineRKelly: #ElectionNight  This election proved that everyone will forgive a man for anything, while a woman will always be judge…\n",
      "Positive => RT @IZOD: America votes. Join the Election Day conversation with #MyVote2016 https://t.co/BWuiwAxas6\n",
      "Negative => RT @Eng_afternoonz: #Election2016 #เลือกตั้งสหรัฐElection =ก.เลือกตั้งElectorate =ผู้มีสิทธิ์เลือกตั้งอย่าออกเสียง r นะErect นั่นคือ…\n",
      "Negative => RT @otsIive: THE SUICIDE PREVENTION LINE IS FUCKING BUSY DO YOU REALIZE HOW BAD THAT IS PEOPLE WANTS TO DIE BC OF THIS ELECTION LET THAT FU…\n",
      "Negative => RT @_jomesia: My God is bigger than this election😊😊😊😊😊😊\n",
      "Negative => RT @AmyMek: WOW!!!! @FrankLuntz just called the election for Donald Trump on @CBS.#ElectionNight\n",
      "Positive => RT @wangjckson: this election can change world history and all u kids worry about is fucking kpop lol get out https://t.co/pqaOl3EKE9\n",
      "Negative => Going on hour 7 of watching the election. Should've gotten wine.\n",
      "Negative => RT @Eng_afternoonz: #Election2016 #เลือกตั้งสหรัฐElection =ก.เลือกตั้งElectorate =ผู้มีสิทธิ์เลือกตั้งอย่าออกเสียง r นะErect นั่นคือ…\n",
      "Negative => We know what we feel. THEY still not gone care, it doesn't affect them. No sympathy for a minority https://t.co/s1cMoiGnbu\n",
      "Positive => RT @CBCMeg: \"Let's have American election viewing parties!\" Canadians said. \"We'll watch together &amp; drink beer.\"**Canadians frozen in horr…\n",
      "Negative => I hope this is photoshopped ... https://t.co/Ghx7PgoU5z\n",
      "Negative => RT @jennifermeckles: .@ksdknews Campaign says @JasonKander called Sen. Blunt to concede race. Told his supporters they can't ever step a… \n",
      "Negative => I'm just trying to pack, but the election has be ready to just curl up and die\n",
      "Negative => RT @HawaiiFreePress: First Read—Hawaii Election Results https://t.co/TZ2TtzasHR\n",
      "Negative => RT @meredithadrian: I've been watching this election for so long that my eyes are starting to hurt 😭\n",
      "Negative => RT @jaysean: My mind is actually blown as I'm watching this election go down. This literally highlights ignorance to the highest degree. Ho…\n",
      "Positive => I'm literally sick to my stomach over these electric results. WTF America? #ElectionNight\n",
      "Negative => RT @JustinLaboy: This election is a real shot at women. You can be more qualified, better educated, have more impressive resume and still n…\n",
      "Negative => RT @pzf: BREAKING NEWS: South Korean presidential office to hold National Security Council session over U.S. election impact.\n",
      "Negative => @PunkyStarshine @maitlande the only difference is Bush didn't have the chance to overturn a federal law\n",
      "Negative => Can this election hurry up so I can sleep 😕\n",
      "Negative => @SauceOneTwo @Phil_Lewis_ maybe not in this election\n",
      "Positive => Scenes from the 2016 Election Tuesday at the Aberdeen Polling Centershttps://t.co/K7pwmwFkBN https://t.co/S1SbufFC10\n",
      "Positive => This is how we make America great again, uniting through memes\n",
      "Negative => RT @jessica_1kool: Election Day drinking game!! Doesn't really matter what the rules are, just make sure you're blacked out for the resul…\n",
      "Positive => Legend says real niggas were born today many years ago @YourboyJay_\n",
      "Positive => Probably a good decision. https://t.co/yFWyFNAZq8\n",
      "Positive => How dissapointing..America has made history by being the first president to have no previous political experience!… https://t.co/clKgDoMXpA\n",
      "Negative => RT @YonhapNews: Presidential office to convene NSC session over U.S. election impact https://t.co/aRMcpCMgMx\n",
      "Positive => Keep it https://t.co/UhMVzmEhfZ\n",
      "Iteration 5\n",
      "Negative => RT @WORLDSTAR: Here are the election results if only millennials voted... Wow 😳 https://t.co/6oVdIlxi4n\n",
      "Negative => 💀😂 https://t.co/cpOoRVQrO3\n",
      "Positive => RT @SenSanders: Election Day should be a national holiday so that everyone has the time and opportunity to vote.\n",
      "Negative => RT @ianbremmer: With 5% approval? Good luck with that... https://t.co/6Nx23DTQJn\n",
      "Positive => deeply disappointed by the current outcome of this election and the eligible voters that chose to use their voice to put trump in office\n",
      "Positive => For Clinton supporters, confidence dissolves into terror https://t.co/hCVvFCsw4X &gt;&gt; America has spoken and said \"Fuck you Hillary.\"\n",
      "Negative => Religious folks...this is a glass half empty night. Quite trying to fucking make it a \"cheery\" thing for POC, LGBT, and Muslims. C'mon now.\n",
      "Negative => This election got me sick to my stomach, I just want it to end. #election2016 #ElectionNight\n",
      "Positive => Love still Trumps hate regardless of what happens. Love to all. Find something to feel positive about; it's the onl… https://t.co/8WJdxznvJv\n",
      "Negative => @ThatLADoll lol yes\n",
      "Negative => RT @CNN: .@VanJones68 on Russia: This is the first election where an enemy power explicitly interfered and got away with it https://t.co/wJ…\n",
      "Negative => @GOP @EricTrump @SenateGOP https://t.co/d8l12TDbXQ\n",
      "Negative => RT @jessetyler: The fact that this election could come down to one state or even ONE CONGRESSIONAL DISTRICT should be a reminder that EVERY…\n",
      "Positive => RT @CAyugi: US election is real proof how human beings are hypocrites, strongly disagree with Trump in public but vote him in secret #Elect…\n",
      "Negative => RT @JayBeActinUp: do ya thang @GeorgeBush https://t.co/4tKKkigk43\n",
      "Negative => RT @otsIive: THE SUICIDE PREVENTION LINE IS FUCKING BUSY DO YOU REALIZE HOW BAD THAT IS PEOPLE WANTS TO DIE BC OF THIS ELECTION LET THAT FU…\n",
      "Negative => Ya tengo sueño :'(\n",
      "Negative => RT @otsIive: THE SUICIDE PREVENTION LINE IS FUCKING BUSY DO YOU REALIZE HOW BAD THAT IS PEOPLE WANTS TO DIE BC OF THIS ELECTION LET THAT FU…\n",
      "Positive => RT @Skyhartman: Also make sure you ask them who they voted for in the Congressional election - I'm sure the reply will be \"what's t… \n",
      "Negative => 😂😂😂😂😂 https://t.co/oI6yy2gD6A\n",
      "Positive => if trump wins all of my friends will be gonetheyre gonna be sent back to Mexico cuz you asshats voted third party\n",
      "Negative => RT @omarisankofa: My TL watching this election https://t.co/QyxX6L3jMe\n",
      "Negative => Didn't want to, but I guess I'll have to wake up to hear the news for the election. I have to get up early. Gn✌🏾️😴\n",
      "Negative => RT @joanneprada: 2016 election: the ultimate scam\n",
      "Positive => RT @Telegraph: Donald Trump is set for a #Elections2016 victory in 'America's Brexit' https://t.co/Fsv3rzMQM0 #ElectionNight https://t.co/0…\n",
      "Positive => You girl are just looking for attention👌😂\n",
      "Positive => As a parent is a reminder to work hard and we need to just follow one rule love your neighbor.\n",
      "Positive => RT @blackvoices: Ex-KKK leader David Duke celebrates Donald Trump's election night https://t.co/hPbfJq9T9q https://t.co/yKocuGy926\n",
      "Negative => Bullock looks toward re-election with early lead over Gianforte https://t.co/EO98pjFHoe\n",
      "Positive => RT @HuffPostPol: The Canadian immigration site crashed on U.S. election night. Yes, really. https://t.co/iuj8TbT0KD https://t.co/99UsUKltZi\n",
      "Negative => When you do a write in or don't vote for one of  the main parties, you are wasting your vote. It's like you never even vote #ElectionNight\n",
      "Positive => @Neelofa american election interesting aye??? https://t.co/qpg1HKYTAD\n",
      "Positive => RT @chancetherapper: If you wanna cry watch Van Jones give the first cognizant minority understanding of the election on CNN tonight. He ju…\n",
      "Positive => RT @TheYoungTurks: Politics: Keep It Simple, Stupid | Election Day Coverage 2016: https://t.co/pAbwLAczq1 via @YouTube\n",
      "Positive => RT @BenjaminNorton: This country was founded on genocide and slavery. The election of Donald Trump is just another reminder that America wa…\n",
      "Positive => RT @tamarakeithNPR: This is the scene at the Clinton election night party. Some still have hope. More are deflated and scared. https://t.co…\n",
      "Negative => RT @ashaqeens: Unfair to compare Imran Khan &amp; Donald Trump, Trump can at-least win an election.\n",
      "Negative => @juliagearhart LMAO\n",
      "Negative => RT @CNNPolitics: Van Jones: \"This was a 'white-lash' against a changing country\" https://t.co/fVi0JzyFOr #CNNElection #ElectionNight https:…\n",
      "Positive => RT @wikileaks: Assange statement: What are the reasons behind WikiLeaks exposures of the DNC and the Clinton campaign?… \n",
      "Iteration 6\n"
     ]
    },
    {
     "ename": "KeyError",
     "evalue": "'text'",
     "output_type": "error",
     "traceback": [
      "\u001b[0;31m---------------------------------------------------------------------------\u001b[0m",
      "\u001b[0;31mKeyError\u001b[0m                                  Traceback (most recent call last)",
      "\u001b[0;32m<ipython-input-36-6935ea7128ae>\u001b[0m in \u001b[0;36m<module>\u001b[0;34m()\u001b[0m\n\u001b[1;32m      2\u001b[0m \u001b[0;32mfor\u001b[0m \u001b[0mx\u001b[0m \u001b[0;32min\u001b[0m \u001b[0mxrange\u001b[0m\u001b[0;34m(\u001b[0m\u001b[0;36m10\u001b[0m\u001b[0;34m)\u001b[0m\u001b[0;34m:\u001b[0m\u001b[0;34m\u001b[0m\u001b[0m\n\u001b[1;32m      3\u001b[0m     \u001b[0;32mprint\u001b[0m \u001b[0;34m\"Iteration %s\"\u001b[0m \u001b[0;34m%\u001b[0m \u001b[0mx\u001b[0m\u001b[0;34m\u001b[0m\u001b[0m\n\u001b[0;32m----> 4\u001b[0;31m     \u001b[0mget_new_tweet_data\u001b[0m\u001b[0;34m(\u001b[0m\u001b[0;34m)\u001b[0m\u001b[0;34m\u001b[0m\u001b[0m\n\u001b[0m\u001b[1;32m      5\u001b[0m     \u001b[0mtime\u001b[0m\u001b[0;34m.\u001b[0m\u001b[0msleep\u001b[0m\u001b[0;34m(\u001b[0m\u001b[0;36m10\u001b[0m\u001b[0;34m)\u001b[0m\u001b[0;34m\u001b[0m\u001b[0m\n",
      "\u001b[0;32m<ipython-input-20-b138f9088300>\u001b[0m in \u001b[0;36mget_new_tweet_data\u001b[0;34m()\u001b[0m\n\u001b[1;32m      2\u001b[0m     \u001b[0mstream\u001b[0m \u001b[0;34m=\u001b[0m \u001b[0mapi\u001b[0m\u001b[0;34m.\u001b[0m\u001b[0mGetStreamFilter\u001b[0m\u001b[0;34m(\u001b[0m\u001b[0mtrack\u001b[0m\u001b[0;34m=\u001b[0m\u001b[0;34m[\u001b[0m\u001b[0;34m\"election\"\u001b[0m\u001b[0;34m]\u001b[0m\u001b[0;34m,\u001b[0m\u001b[0mlocations\u001b[0m\u001b[0;34m=\u001b[0m\u001b[0mlocations\u001b[0m\u001b[0;34m)\u001b[0m\u001b[0;34m\u001b[0m\u001b[0m\n\u001b[1;32m      3\u001b[0m     \u001b[0mtweets\u001b[0m \u001b[0;34m=\u001b[0m \u001b[0;34m[\u001b[0m\u001b[0mstream\u001b[0m\u001b[0;34m.\u001b[0m\u001b[0mnext\u001b[0m\u001b[0;34m(\u001b[0m\u001b[0;34m)\u001b[0m \u001b[0;32mfor\u001b[0m \u001b[0mx\u001b[0m \u001b[0;32min\u001b[0m \u001b[0mxrange\u001b[0m\u001b[0;34m(\u001b[0m\u001b[0;36m40\u001b[0m\u001b[0;34m)\u001b[0m\u001b[0;34m]\u001b[0m\u001b[0;34m\u001b[0m\u001b[0m\n\u001b[0;32m----> 4\u001b[0;31m     \u001b[0mtweet_text\u001b[0m \u001b[0;34m=\u001b[0m \u001b[0;34m[\u001b[0m\u001b[0mx\u001b[0m\u001b[0;34m[\u001b[0m\u001b[0;34m'text'\u001b[0m\u001b[0;34m]\u001b[0m\u001b[0;34m.\u001b[0m\u001b[0mreplace\u001b[0m\u001b[0;34m(\u001b[0m\u001b[0;34m'\\n'\u001b[0m\u001b[0;34m,\u001b[0m \u001b[0;34m''\u001b[0m\u001b[0;34m)\u001b[0m \u001b[0;32mfor\u001b[0m \u001b[0mx\u001b[0m \u001b[0;32min\u001b[0m \u001b[0mtweets\u001b[0m\u001b[0;34m]\u001b[0m\u001b[0;34m\u001b[0m\u001b[0m\n\u001b[0m\u001b[1;32m      5\u001b[0m     \u001b[0minput_data\u001b[0m \u001b[0;34m=\u001b[0m \u001b[0mvect\u001b[0m\u001b[0;34m.\u001b[0m\u001b[0mtransform\u001b[0m\u001b[0;34m(\u001b[0m\u001b[0mtweet_text\u001b[0m\u001b[0;34m)\u001b[0m\u001b[0;34m\u001b[0m\u001b[0m\n\u001b[1;32m      6\u001b[0m     \u001b[0mpredictions\u001b[0m \u001b[0;34m=\u001b[0m \u001b[0mclassifier\u001b[0m\u001b[0;34m.\u001b[0m\u001b[0mpredict\u001b[0m\u001b[0;34m(\u001b[0m\u001b[0minput_data\u001b[0m\u001b[0;34m)\u001b[0m\u001b[0;34m\u001b[0m\u001b[0m\n",
      "\u001b[0;31mKeyError\u001b[0m: 'text'"
     ]
    }
   ],
   "source": [
    "import time\n",
    "for x in xrange(5):\n",
    "    print \"Iteration %s\" % x\n",
    "    get_new_tweet_data()\n",
    "    time.sleep(10)"
   ]
  },
  {
   "cell_type": "code",
   "execution_count": 42,
   "metadata": {
    "collapsed": false
   },
   "outputs": [],
   "source": [
    "%matplotlib inline"
   ]
  },
  {
   "cell_type": "code",
   "execution_count": 43,
   "metadata": {
    "collapsed": false
   },
   "outputs": [],
   "source": [
    "sentiments = [x[1] for x in tweets_dump]"
   ]
  },
  {
   "cell_type": "code",
   "execution_count": 44,
   "metadata": {
    "collapsed": false
   },
   "outputs": [
    {
     "data": {
      "text/plain": [
       "(384, 256)"
      ]
     },
     "execution_count": 44,
     "metadata": {},
     "output_type": "execute_result"
    }
   ],
   "source": [
    "from collections import Counter\n",
    "c= Counter(sentiments)\n",
    "(c[-1],c[1])"
   ]
  },
  {
   "cell_type": "code",
   "execution_count": 45,
   "metadata": {
    "collapsed": false
   },
   "outputs": [
    {
     "data": {
      "text/plain": [
       "array([0, 1])"
      ]
     },
     "execution_count": 45,
     "metadata": {},
     "output_type": "execute_result"
    }
   ],
   "source": [
    "np.arange(2)"
   ]
  },
  {
   "cell_type": "code",
   "execution_count": 46,
   "metadata": {
    "collapsed": false
   },
   "outputs": [
    {
     "data": {
      "text/plain": [
       "[<matplotlib.text.Text at 0x1149cda50>, <matplotlib.text.Text at 0x114aabe10>]"
      ]
     },
     "execution_count": 46,
     "metadata": {},
     "output_type": "execute_result"
    },
    {
     "data": {
      "image/png": "[encoded data removed]",
      "text/plain": [
       "<matplotlib.figure.Figure at 0x114955450>"
      ]
     },
     "metadata": {},
     "output_type": "display_data"
    }
   ],
   "source": [
    "fig,ax = plt.subplots()\n",
    "width=0.3\n",
    "ax.bar(np.arange(2), (c[-1],c[1]),align='center', width=width)\n",
    "ax.set_xticks(np.arange(2))\n",
    "ax.set_xticklabels((\"Negative\", \"Positive\"))"
   ]
  }
 ],
 "metadata": {
  "kernelspec": {
   "display_name": "Python 2",
   "language": "python",
   "name": "python2"
  },
  "language_info": {
   "codemirror_mode": {
    "name": "ipython",
    "version": 2
   },
   "file_extension": ".py",
   "mimetype": "text/x-python",
   "name": "python",
   "nbconvert_exporter": "python",
   "pygments_lexer": "ipython2",
   "version": "2.7.12"
  }
 },
 "nbformat": 4,
 "nbformat_minor": 0
}
